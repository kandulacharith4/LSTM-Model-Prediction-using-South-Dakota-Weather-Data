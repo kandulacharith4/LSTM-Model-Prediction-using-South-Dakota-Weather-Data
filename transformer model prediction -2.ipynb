{
 "cells": [
  {
   "cell_type": "code",
   "execution_count": 443,
   "id": "86da8b97",
   "metadata": {},
   "outputs": [],
   "source": [
    "import numpy as np\n",
    "import pandas as pd\n",
    "import matplotlib.pyplot as plt\n",
    "from sklearn.model_selection import train_test_split\n",
    "from sklearn.preprocessing import MinMaxScaler\n",
    "from tensorflow.keras.models import Sequential\n",
    "from tensorflow.keras.layers import LSTM, Dense, Dropout\n",
    "import math\n",
    "from sklearn.metrics import mean_squared_error"
   ]
  },
  {
   "cell_type": "code",
   "execution_count": 444,
   "id": "69beeb28",
   "metadata": {},
   "outputs": [],
   "source": [
    "from keras.models import Sequential\n",
    "from keras.layers import Dense\n",
    "from keras.layers import LSTM, Flatten\n",
    "from sklearn.preprocessing import MinMaxScaler\n",
    "from sklearn.metrics import mean_squared_error\n",
    "from keras.callbacks import EarlyStopping\n",
    "from keras.layers import ConvLSTM2D"
   ]
  },
  {
   "cell_type": "code",
   "execution_count": 445,
   "id": "00cad228",
   "metadata": {},
   "outputs": [],
   "source": [
    "# Load your dataset\n",
    "# Replace this with your data loading code\n",
    "data = pd.read_csv('../south dakota weather data/South Dakota climate Data.csv')"
   ]
  },
  {
   "cell_type": "code",
   "execution_count": 446,
   "id": "b252eb57",
   "metadata": {},
   "outputs": [],
   "source": [
    "# Choose the target columns (e.g., 'Avg. Temp', 'Min. Temp', 'Max. Temp', 'Precipitation', 'Heating Degrees Days', 'Cooling Degrees Days')\n",
    "data = data[['Avg. Temp', 'Min. Temp', 'Max. Temp', 'Precipitation', 'Heating Degrees Days']].values\n",
    "data = data.astype('float32') #convert values to float"
   ]
  },
  {
   "cell_type": "code",
   "execution_count": 447,
   "id": "beb7dfe2",
   "metadata": {},
   "outputs": [],
   "source": [
    "#LSTM uses sigmoid and tanh that are sensitive to magnitude so values need to be normalized\n",
    "# normalize the dataset\n",
    "scaler = MinMaxScaler(feature_range=(0, 1)) #Also try QuantileTransformer\n",
    "data = scaler.fit_transform(data)"
   ]
  },
  {
   "cell_type": "code",
   "execution_count": 448,
   "id": "874e4b51",
   "metadata": {},
   "outputs": [
    {
     "data": {
      "text/plain": [
       "array([[0.79322034, 0.8188495 , 0.7704402 , 0.33234861, 0.04745255],\n",
       "       [0.8677966 , 0.90820074, 0.8333333 , 0.50812405, 0.00999001],\n",
       "       [0.8587571 , 0.89351285, 0.8291404 , 0.37666175, 0.01798202],\n",
       "       ...,\n",
       "       [0.3864407 , 0.376989  , 0.39308175, 0.15066469, 0.55444556],\n",
       "       [0.19548023, 0.20440637, 0.18763101, 0.10044312, 0.7327672 ],\n",
       "       [0.13672316, 0.13586292, 0.13836476, 0.0945347 , 0.8876124 ]],\n",
       "      dtype=float32)"
      ]
     },
     "execution_count": 448,
     "metadata": {},
     "output_type": "execute_result"
    }
   ],
   "source": [
    "data"
   ]
  },
  {
   "cell_type": "code",
   "execution_count": 449,
   "id": "20df69b2",
   "metadata": {},
   "outputs": [
    {
     "name": "stdout",
     "output_type": "stream",
     "text": [
      "1390\n",
      "155\n"
     ]
    }
   ],
   "source": [
    "# Define the train-test split ratio (80:20)\n",
    "train_size = int(len(data) * 0.90)\n",
    "test_size = len(data) - train_size\n",
    "train, test = data[0:train_size, :], data[train_size:len(data), :]\n",
    "print(len(train))\n",
    "print(len(test))"
   ]
  },
  {
   "cell_type": "code",
   "execution_count": 450,
   "id": "cf3d6e98",
   "metadata": {},
   "outputs": [],
   "source": [
    "def to_sequences(dataset, seq_size=6, step_size=1, target_size=6):\n",
    "    x = []\n",
    "    y = []\n",
    "\n",
    "    for i in range(0, len(dataset)-seq_size-target_size + 1, step_size):\n",
    "        #print(i)\n",
    "        window = dataset[i:(i+seq_size)]\n",
    "        x.append(window)\n",
    "        target = dataset[i + seq_size: i + seq_size + target_size]\n",
    "        y.append(target)\n",
    "    \n",
    "    return np.array(x),np.array(y)"
   ]
  },
  {
   "cell_type": "code",
   "execution_count": 451,
   "id": "e20b6103",
   "metadata": {},
   "outputs": [],
   "source": [
    "seq_size = 6  # Number of time steps to look back\n",
    "step_size=1  # Number of steps that is going to increase for the next sequence\n",
    "num_features=5\n",
    "target_size=6 # Number of values that is going to generate as the output"
   ]
  },
  {
   "cell_type": "code",
   "execution_count": 452,
   "id": "12878546",
   "metadata": {},
   "outputs": [],
   "source": [
    "trainX, trainY = to_sequences(train, seq_size, step_size, target_size)\n",
    "testX, testY = to_sequences(test, seq_size, step_size, target_size)"
   ]
  },
  {
   "cell_type": "code",
   "execution_count": 453,
   "id": "829d4422",
   "metadata": {},
   "outputs": [
    {
     "data": {
      "text/plain": [
       "(1379, 6, 5)"
      ]
     },
     "execution_count": 453,
     "metadata": {},
     "output_type": "execute_result"
    }
   ],
   "source": [
    "trainX.shape"
   ]
  },
  {
   "cell_type": "code",
   "execution_count": 454,
   "id": "6bcbf6e8",
   "metadata": {},
   "outputs": [
    {
     "data": {
      "text/plain": [
       "(1379, 6, 5)"
      ]
     },
     "execution_count": 454,
     "metadata": {},
     "output_type": "execute_result"
    }
   ],
   "source": [
    "trainY.shape"
   ]
  },
  {
   "cell_type": "code",
   "execution_count": 455,
   "id": "427fb94f",
   "metadata": {},
   "outputs": [
    {
     "data": {
      "text/plain": [
       "(144, 6, 5)"
      ]
     },
     "execution_count": 455,
     "metadata": {},
     "output_type": "execute_result"
    }
   ],
   "source": [
    "testX.shape"
   ]
  },
  {
   "cell_type": "code",
   "execution_count": 456,
   "id": "070eb9f5",
   "metadata": {},
   "outputs": [
    {
     "data": {
      "text/plain": [
       "(144, 6, 5)"
      ]
     },
     "execution_count": 456,
     "metadata": {},
     "output_type": "execute_result"
    }
   ],
   "source": [
    "testY.shape"
   ]
  },
  {
   "cell_type": "code",
   "execution_count": 457,
   "id": "6c3544b6",
   "metadata": {},
   "outputs": [
    {
     "name": "stdout",
     "output_type": "stream",
     "text": [
      "Requirement already satisfied: tensorflow-addons in c:\\users\\kandu\\anaconda3\\lib\\site-packages (0.22.0)\n",
      "Requirement already satisfied: typeguard<3.0.0,>=2.7 in c:\\users\\kandu\\anaconda3\\lib\\site-packages (from tensorflow-addons) (2.13.3)\n",
      "Requirement already satisfied: packaging in c:\\users\\kandu\\anaconda3\\lib\\site-packages (from tensorflow-addons) (23.0)\n",
      "Note: you may need to restart the kernel to use updated packages.\n"
     ]
    }
   ],
   "source": [
    "pip install tensorflow-addons"
   ]
  },
  {
   "cell_type": "code",
   "execution_count": 458,
   "id": "cfd894d8",
   "metadata": {},
   "outputs": [],
   "source": [
    "from tensorflow.keras.layers import Input, Dense, Dropout, Embedding\n",
    "import tensorflow_addons as tfa"
   ]
  },
  {
   "cell_type": "code",
   "execution_count": 459,
   "id": "08da1932",
   "metadata": {
    "scrolled": true
   },
   "outputs": [
    {
     "name": "stdout",
     "output_type": "stream",
     "text": [
      "Model: \"model_21\"\n",
      "__________________________________________________________________________________________________\n",
      " Layer (type)                Output Shape                 Param #   Connected to                  \n",
      "==================================================================================================\n",
      " input_23 (InputLayer)       [(None, 6, 5)]               0         []                            \n",
      "                                                                                                  \n",
      " multi_head_attention_19 (M  (None, 6, 5)                 235       ['input_23[0][0]',            \n",
      " ultiHeadAttention)                                                  'input_23[0][0]']            \n",
      "                                                                                                  \n",
      " tf.__operators__.add_19 (T  (None, 6, 5)                 0         ['multi_head_attention_19[0][0\n",
      " FOpLambda)                                                         ]',                           \n",
      "                                                                     'input_23[0][0]']            \n",
      "                                                                                                  \n",
      " layer_normalization_22 (La  (None, 6, 5)                 10        ['tf.__operators__.add_19[0][0\n",
      " yerNormalization)                                                  ]']                           \n",
      "                                                                                                  \n",
      " conv1d_19 (Conv1D)          (None, 6, 64)                384       ['layer_normalization_22[0][0]\n",
      "                                                                    ']                            \n",
      "                                                                                                  \n",
      " dense_25 (Dense)            (None, 6, 5)                 325       ['conv1d_19[0][0]']           \n",
      "                                                                                                  \n",
      "==================================================================================================\n",
      "Total params: 954 (3.73 KB)\n",
      "Trainable params: 954 (3.73 KB)\n",
      "Non-trainable params: 0 (0.00 Byte)\n",
      "__________________________________________________________________________________________________\n"
     ]
    }
   ],
   "source": [
    "import tensorflow as tf\n",
    "from tensorflow.keras import layers\n",
    "from tensorflow.keras.layers import Input, Dense, Dropout, Embedding, Attention, LayerNormalization\n",
    "from tensorflow.keras.models import Model\n",
    "\n",
    "# Define the transformer model\n",
    "def transformer_model(seq_size, num_features, target_size):\n",
    "    inputs = layers.Input(shape=(seq_size, num_features))\n",
    "    \n",
    "    # Multi-Head Self-Attention\n",
    "    attention = layers.MultiHeadAttention(\n",
    "        num_heads=2, key_dim=num_features, dropout=0.1\n",
    "    )(inputs, inputs)\n",
    "    attention = layers.LayerNormalization(epsilon=1e-6)(attention + inputs)\n",
    "    \n",
    "    # Feedforward layer\n",
    "    outputs = layers.Conv1D(filters=64, kernel_size=1, activation=\"relu\")(attention)\n",
    "    outputs = layers.Dense(num_features)(outputs)\n",
    "    \n",
    "    model = tf.keras.Model(inputs=inputs, outputs=outputs)\n",
    "    return model\n",
    "\n",
    "# Instantiate the model\n",
    "model = transformer_model(seq_size, num_features, target_size)\n",
    "\n",
    "# Compile the model\n",
    "model.compile(optimizer=\"adam\", loss=\"mse\", metrics=[\"mae\"])\n",
    "\n",
    "# Define early stopping\n",
    "early_stopping = EarlyStopping(monitor='val_loss', patience=10)\n",
    "\n",
    "model.summary()"
   ]
  },
  {
   "cell_type": "code",
   "execution_count": 460,
   "id": "bf66e992",
   "metadata": {},
   "outputs": [
    {
     "name": "stdout",
     "output_type": "stream",
     "text": [
      "Epoch 1/100\n",
      "28/28 [==============================] - 1s 8ms/step - loss: 0.2559 - mae: 0.3966 - val_loss: 0.0573 - val_mae: 0.1868\n",
      "Epoch 2/100\n",
      "28/28 [==============================] - 0s 3ms/step - loss: 0.0281 - mae: 0.1272 - val_loss: 0.0149 - val_mae: 0.0949\n",
      "Epoch 3/100\n",
      "28/28 [==============================] - 0s 3ms/step - loss: 0.0135 - mae: 0.0894 - val_loss: 0.0109 - val_mae: 0.0795\n",
      "Epoch 4/100\n",
      "28/28 [==============================] - 0s 4ms/step - loss: 0.0115 - mae: 0.0811 - val_loss: 0.0098 - val_mae: 0.0737\n",
      "Epoch 5/100\n",
      "28/28 [==============================] - 0s 4ms/step - loss: 0.0105 - mae: 0.0769 - val_loss: 0.0093 - val_mae: 0.0711\n",
      "Epoch 6/100\n",
      "28/28 [==============================] - 0s 3ms/step - loss: 0.0099 - mae: 0.0746 - val_loss: 0.0089 - val_mae: 0.0690\n",
      "Epoch 7/100\n",
      "28/28 [==============================] - 0s 3ms/step - loss: 0.0096 - mae: 0.0729 - val_loss: 0.0087 - val_mae: 0.0679\n",
      "Epoch 8/100\n",
      "28/28 [==============================] - 0s 3ms/step - loss: 0.0094 - mae: 0.0720 - val_loss: 0.0084 - val_mae: 0.0659\n",
      "Epoch 9/100\n",
      "28/28 [==============================] - 0s 3ms/step - loss: 0.0091 - mae: 0.0707 - val_loss: 0.0084 - val_mae: 0.0659\n",
      "Epoch 10/100\n",
      "28/28 [==============================] - 0s 3ms/step - loss: 0.0090 - mae: 0.0701 - val_loss: 0.0082 - val_mae: 0.0647\n",
      "Epoch 11/100\n",
      "28/28 [==============================] - 0s 3ms/step - loss: 0.0089 - mae: 0.0695 - val_loss: 0.0083 - val_mae: 0.0651\n",
      "Epoch 12/100\n",
      "28/28 [==============================] - 0s 3ms/step - loss: 0.0088 - mae: 0.0692 - val_loss: 0.0082 - val_mae: 0.0647\n",
      "Epoch 13/100\n",
      "28/28 [==============================] - 0s 4ms/step - loss: 0.0087 - mae: 0.0686 - val_loss: 0.0079 - val_mae: 0.0633\n",
      "Epoch 14/100\n",
      "28/28 [==============================] - 0s 3ms/step - loss: 0.0087 - mae: 0.0681 - val_loss: 0.0078 - val_mae: 0.0626\n",
      "Epoch 15/100\n",
      "28/28 [==============================] - 0s 3ms/step - loss: 0.0086 - mae: 0.0682 - val_loss: 0.0078 - val_mae: 0.0625\n",
      "Epoch 16/100\n",
      "28/28 [==============================] - 0s 3ms/step - loss: 0.0086 - mae: 0.0677 - val_loss: 0.0079 - val_mae: 0.0628\n",
      "Epoch 17/100\n",
      "28/28 [==============================] - 0s 3ms/step - loss: 0.0085 - mae: 0.0676 - val_loss: 0.0081 - val_mae: 0.0644\n",
      "Epoch 18/100\n",
      "28/28 [==============================] - 0s 3ms/step - loss: 0.0086 - mae: 0.0678 - val_loss: 0.0077 - val_mae: 0.0622\n",
      "Epoch 19/100\n",
      "28/28 [==============================] - 0s 3ms/step - loss: 0.0085 - mae: 0.0677 - val_loss: 0.0076 - val_mae: 0.0614\n",
      "Epoch 20/100\n",
      "28/28 [==============================] - 0s 3ms/step - loss: 0.0085 - mae: 0.0673 - val_loss: 0.0081 - val_mae: 0.0642\n",
      "Epoch 21/100\n",
      "28/28 [==============================] - 0s 3ms/step - loss: 0.0085 - mae: 0.0673 - val_loss: 0.0077 - val_mae: 0.0621\n",
      "Epoch 22/100\n",
      "28/28 [==============================] - 0s 3ms/step - loss: 0.0084 - mae: 0.0669 - val_loss: 0.0077 - val_mae: 0.0618\n",
      "Epoch 23/100\n",
      "28/28 [==============================] - 0s 3ms/step - loss: 0.0084 - mae: 0.0672 - val_loss: 0.0076 - val_mae: 0.0610\n",
      "Epoch 24/100\n",
      "28/28 [==============================] - 0s 4ms/step - loss: 0.0083 - mae: 0.0667 - val_loss: 0.0077 - val_mae: 0.0616\n",
      "Epoch 25/100\n",
      "28/28 [==============================] - 0s 3ms/step - loss: 0.0084 - mae: 0.0671 - val_loss: 0.0077 - val_mae: 0.0616\n",
      "Epoch 26/100\n",
      "28/28 [==============================] - 0s 3ms/step - loss: 0.0083 - mae: 0.0668 - val_loss: 0.0080 - val_mae: 0.0635\n",
      "Epoch 27/100\n",
      "28/28 [==============================] - 0s 3ms/step - loss: 0.0083 - mae: 0.0668 - val_loss: 0.0077 - val_mae: 0.0618\n",
      "Epoch 28/100\n",
      "28/28 [==============================] - 0s 3ms/step - loss: 0.0083 - mae: 0.0668 - val_loss: 0.0075 - val_mae: 0.0609\n",
      "Epoch 29/100\n",
      "28/28 [==============================] - 0s 3ms/step - loss: 0.0084 - mae: 0.0671 - val_loss: 0.0076 - val_mae: 0.0612\n",
      "Epoch 30/100\n",
      "28/28 [==============================] - 0s 3ms/step - loss: 0.0083 - mae: 0.0665 - val_loss: 0.0078 - val_mae: 0.0621\n",
      "Epoch 31/100\n",
      "28/28 [==============================] - 0s 3ms/step - loss: 0.0083 - mae: 0.0668 - val_loss: 0.0077 - val_mae: 0.0620\n",
      "Epoch 32/100\n",
      "28/28 [==============================] - 0s 3ms/step - loss: 0.0083 - mae: 0.0666 - val_loss: 0.0076 - val_mae: 0.0615\n",
      "Epoch 33/100\n",
      "28/28 [==============================] - 0s 3ms/step - loss: 0.0082 - mae: 0.0664 - val_loss: 0.0078 - val_mae: 0.0625\n",
      "Epoch 34/100\n",
      "28/28 [==============================] - 0s 3ms/step - loss: 0.0082 - mae: 0.0662 - val_loss: 0.0077 - val_mae: 0.0618\n",
      "Epoch 35/100\n",
      "28/28 [==============================] - 0s 3ms/step - loss: 0.0082 - mae: 0.0661 - val_loss: 0.0075 - val_mae: 0.0605\n",
      "Epoch 36/100\n",
      "28/28 [==============================] - 0s 3ms/step - loss: 0.0082 - mae: 0.0661 - val_loss: 0.0076 - val_mae: 0.0610\n",
      "Epoch 37/100\n",
      "28/28 [==============================] - 0s 3ms/step - loss: 0.0082 - mae: 0.0662 - val_loss: 0.0078 - val_mae: 0.0620\n",
      "Epoch 38/100\n",
      "28/28 [==============================] - 0s 3ms/step - loss: 0.0082 - mae: 0.0663 - val_loss: 0.0075 - val_mae: 0.0603\n",
      "Epoch 39/100\n",
      "28/28 [==============================] - 0s 3ms/step - loss: 0.0082 - mae: 0.0660 - val_loss: 0.0077 - val_mae: 0.0620\n",
      "Epoch 40/100\n",
      "28/28 [==============================] - 0s 3ms/step - loss: 0.0081 - mae: 0.0660 - val_loss: 0.0078 - val_mae: 0.0618\n",
      "Epoch 41/100\n",
      "28/28 [==============================] - 0s 3ms/step - loss: 0.0082 - mae: 0.0661 - val_loss: 0.0077 - val_mae: 0.0619\n",
      "Epoch 42/100\n",
      "28/28 [==============================] - 0s 4ms/step - loss: 0.0082 - mae: 0.0663 - val_loss: 0.0076 - val_mae: 0.0607\n",
      "Epoch 43/100\n",
      "28/28 [==============================] - 0s 3ms/step - loss: 0.0082 - mae: 0.0660 - val_loss: 0.0074 - val_mae: 0.0596\n",
      "Epoch 44/100\n",
      "28/28 [==============================] - 0s 3ms/step - loss: 0.0082 - mae: 0.0661 - val_loss: 0.0074 - val_mae: 0.0599\n",
      "Epoch 45/100\n",
      "28/28 [==============================] - 0s 3ms/step - loss: 0.0082 - mae: 0.0662 - val_loss: 0.0077 - val_mae: 0.0612\n",
      "Epoch 46/100\n",
      "28/28 [==============================] - 0s 3ms/step - loss: 0.0081 - mae: 0.0658 - val_loss: 0.0077 - val_mae: 0.0614\n",
      "Epoch 47/100\n",
      "28/28 [==============================] - 0s 3ms/step - loss: 0.0081 - mae: 0.0658 - val_loss: 0.0076 - val_mae: 0.0613\n",
      "Epoch 48/100\n",
      "28/28 [==============================] - 0s 3ms/step - loss: 0.0081 - mae: 0.0658 - val_loss: 0.0073 - val_mae: 0.0598\n",
      "Epoch 49/100\n",
      "28/28 [==============================] - 0s 3ms/step - loss: 0.0082 - mae: 0.0661 - val_loss: 0.0078 - val_mae: 0.0620\n",
      "Epoch 50/100\n",
      "28/28 [==============================] - 0s 3ms/step - loss: 0.0081 - mae: 0.0659 - val_loss: 0.0077 - val_mae: 0.0623\n",
      "Epoch 51/100\n",
      "28/28 [==============================] - 0s 3ms/step - loss: 0.0081 - mae: 0.0654 - val_loss: 0.0075 - val_mae: 0.0601\n",
      "Epoch 52/100\n",
      "28/28 [==============================] - 0s 3ms/step - loss: 0.0081 - mae: 0.0657 - val_loss: 0.0078 - val_mae: 0.0623\n",
      "Epoch 53/100\n",
      "28/28 [==============================] - 0s 3ms/step - loss: 0.0081 - mae: 0.0656 - val_loss: 0.0074 - val_mae: 0.0602\n",
      "Epoch 54/100\n",
      "28/28 [==============================] - 0s 3ms/step - loss: 0.0081 - mae: 0.0658 - val_loss: 0.0075 - val_mae: 0.0606\n",
      "Epoch 55/100\n",
      "28/28 [==============================] - 0s 4ms/step - loss: 0.0081 - mae: 0.0655 - val_loss: 0.0076 - val_mae: 0.0606\n",
      "Epoch 56/100\n",
      "28/28 [==============================] - 0s 3ms/step - loss: 0.0080 - mae: 0.0652 - val_loss: 0.0074 - val_mae: 0.0603\n",
      "Epoch 57/100\n",
      "28/28 [==============================] - 0s 3ms/step - loss: 0.0081 - mae: 0.0654 - val_loss: 0.0075 - val_mae: 0.0602\n",
      "Epoch 58/100\n",
      "28/28 [==============================] - 0s 3ms/step - loss: 0.0080 - mae: 0.0655 - val_loss: 0.0076 - val_mae: 0.0601\n"
     ]
    }
   ],
   "source": [
    "# Train the model\n",
    "history = model.fit(trainX, trainY, epochs=100, batch_size=50, validation_data=(testX, testY), callbacks=[early_stopping])"
   ]
  },
  {
   "cell_type": "code",
   "execution_count": 461,
   "id": "aec0c7ee",
   "metadata": {},
   "outputs": [
    {
     "data": {
      "text/plain": [
       "<matplotlib.legend.Legend at 0x1d458c2a3d0>"
      ]
     },
     "execution_count": 461,
     "metadata": {},
     "output_type": "execute_result"
    },
    {
     "data": {
      "image/png": "[encoded data removed]",
      "text/plain": [
       "<Figure size 640x480 with 1 Axes>"
      ]
     },
     "metadata": {},
     "output_type": "display_data"
    }
   ],
   "source": [
    "plt.plot(history.history['loss'],label='Training loss')\n",
    "plt.plot(history.history['val_loss'],label='Validation Loss')\n",
    "plt.legend()"
   ]
  },
  {
   "cell_type": "code",
   "execution_count": 462,
   "id": "53bf8159",
   "metadata": {},
   "outputs": [
    {
     "name": "stdout",
     "output_type": "stream",
     "text": [
      "5/5 [==============================] - 0s 2ms/step\n",
      "True Values (TestY):\n",
      "[[0.60112995 0.61811507 0.5849057  0.6129985  0.26273727]\n",
      " [0.48700568 0.49694005 0.4769392  0.11669128 0.4110889 ]\n",
      " [0.46101692 0.47368422 0.4486373  0.06942392 0.44905096]\n",
      " [0.3062147  0.3243574  0.29140463 0.07385524 0.5949051 ]\n",
      " [0.12655367 0.13341494 0.12054508 0.1536189  0.8906094 ]\n",
      " [0.29265538 0.3133415  0.2746331  0.10782865 0.66933066]]\n",
      "Predicted Values:\n",
      "[[0.73733556 0.76214236 0.71623963 0.35988596 0.10377114]\n",
      " [0.59532607 0.60882676 0.5778527  0.25421533 0.27494407]\n",
      " [0.42555338 0.44142288 0.41354305 0.12972082 0.48883677]\n",
      " [0.31297892 0.32674608 0.29622138 0.09230242 0.62785685]\n",
      " [0.2829492  0.29111692 0.26325592 0.05912478 0.6924291 ]\n",
      " [0.3145204  0.3369569  0.30316466 0.07495636 0.6354798 ]]\n"
     ]
    }
   ],
   "source": [
    "# Make predictions on the test data\n",
    "testPredict = model.predict(testX)\n",
    "\n",
    "# Inverse transform the predictions to the original scale\n",
    "#testPredict = scaler.inverse_transform(testPredict)\n",
    "\n",
    "# Optionally, inverse transform the testY (true values) if it was scaled\n",
    "#testY = scaler.inverse_transform(testY)\n",
    "\n",
    "# Now, you can compare the testY (true values) with the predicted values\n",
    "# For example, to check the predictions for the first sequence:\n",
    "print(\"True Values (TestY):\")\n",
    "print(testY[0])  # This contains the true values for the first sequence\n",
    "\n",
    "print(\"Predicted Values:\")\n",
    "print(testPredict[0])  # This contains the predicted values for the first sequence"
   ]
  },
  {
   "cell_type": "code",
   "execution_count": 463,
   "id": "fa0d94f6",
   "metadata": {},
   "outputs": [
    {
     "data": {
      "text/plain": [
       "<matplotlib.legend.Legend at 0x1d4528bafd0>"
      ]
     },
     "execution_count": 463,
     "metadata": {},
     "output_type": "execute_result"
    },
    {
     "data": {
      "image/png": "[encoded data removed]",
      "text/plain": [
       "<Figure size 640x480 with 1 Axes>"
      ]
     },
     "metadata": {},
     "output_type": "display_data"
    }
   ],
   "source": [
    "plt.plot(history.history['mae'],label='Mean absolute error')\n",
    "plt.plot(history.history['val_mae'],label='Val_mean absolute error')\n",
    "plt.legend()"
   ]
  },
  {
   "cell_type": "code",
   "execution_count": 464,
   "id": "92ebd546",
   "metadata": {},
   "outputs": [
    {
     "name": "stdout",
     "output_type": "stream",
     "text": [
      "5/5 [==============================] - 0s 2ms/step\n"
     ]
    }
   ],
   "source": [
    "# After training, you can make predictions on the test data\n",
    "testPredict = model.predict(testX)"
   ]
  },
  {
   "cell_type": "code",
   "execution_count": 465,
   "id": "51e33fe8",
   "metadata": {},
   "outputs": [
    {
     "name": "stdout",
     "output_type": "stream",
     "text": [
      "44/44 [==============================] - 0s 1ms/step\n",
      "True Values (TrainY):\n",
      "[[0.32881355 0.36597306 0.2976939  0.16248153 0.6228771 ]\n",
      " [0.30847457 0.32190943 0.29559746 0.10339733 0.6143856 ]\n",
      " [0.2836158  0.32680538 0.24633124 0.11669128 0.7117882 ]\n",
      " [0.23050848 0.25948593 0.20440254 0.20827177 0.7557442 ]\n",
      " [0.38757062 0.40758872 0.3710692  0.07090104 0.5194805 ]\n",
      " [0.6180791  0.61933905 0.6163522  0.08124077 0.24075924]]\n",
      "Predicted Values:\n",
      "[[0.3081025  0.3332849  0.3009026  0.07826397 0.63396394]\n",
      " [0.2591291  0.27725464 0.239442   0.05570296 0.7095819 ]\n",
      " [0.2642084  0.2873505  0.25310448 0.06315266 0.69196296]\n",
      " [0.27293482 0.28317875 0.25018895 0.05694259 0.70082295]\n",
      " [0.36126122 0.38545945 0.34917983 0.0955819  0.5773342 ]\n",
      " [0.6254398  0.62284786 0.60271215 0.26140013 0.2367058 ]]\n"
     ]
    }
   ],
   "source": [
    "trainPredict = model.predict(trainX)\n",
    "\n",
    "# Inverse transform the predictions to the original scale\n",
    "#trainPredict = scaler.inverse_transform(trainPredict)\n",
    "\n",
    "# Optionally, inverse transform the trainY (true values) if it was scaled\n",
    "#trainY = scaler.inverse_transform(trainY)\n",
    "\n",
    "# Now, you can compare the trainY (true values) with the predicted values\n",
    "# For example, to check the predictions for the first sequence:\n",
    "print(\"True Values (TrainY):\")\n",
    "print(trainY[0])  # This contains the true values for the first sequence\n",
    "\n",
    "print(\"Predicted Values:\")\n",
    "print(trainPredict[0])  # This contains the predicted values for the first sequence\n"
   ]
  },
  {
   "cell_type": "code",
   "execution_count": 466,
   "id": "f27af1ba",
   "metadata": {},
   "outputs": [
    {
     "name": "stdout",
     "output_type": "stream",
     "text": [
      "44/44 [==============================] - 0s 1ms/step\n"
     ]
    }
   ],
   "source": [
    "trainPredict = model.predict(trainX)"
   ]
  },
  {
   "cell_type": "code",
   "execution_count": 467,
   "id": "84409af7",
   "metadata": {},
   "outputs": [
    {
     "name": "stdout",
     "output_type": "stream",
     "text": [
      "Test Score: 0.09 RMSE\n"
     ]
    }
   ],
   "source": [
    "# You can also optionally inverse transform the testY (true values) if it was scaled\n",
    "# testY = scaler.inverse_transform(testY)\n",
    "\n",
    "# Calculate RMSE for the test data\n",
    "#testScore = math.sqrt(mean_squared_error(testY, testPredict))\n",
    "#print('Test Score: %.2f RMSE' % (testScore))\n",
    "\n",
    "# Calculate RMSE for the test data\n",
    "testScore = math.sqrt(mean_squared_error(testY.reshape(-1, 5), testPredict.reshape(-1, 5)))\n",
    "print('Test Score: %.2f RMSE' % (testScore))"
   ]
  },
  {
   "cell_type": "code",
   "execution_count": 468,
   "id": "bb933fdb",
   "metadata": {},
   "outputs": [
    {
     "name": "stdout",
     "output_type": "stream",
     "text": [
      "Train Score: 0.09 RMSE\n"
     ]
    }
   ],
   "source": [
    "# You can also optionally inverse transform the testY (true values) if it was scaled\n",
    "# testY = scaler.inverse_transform(testY)\n",
    "\n",
    "# Calculate RMSE for the test data\n",
    "#trainScore = math.sqrt(mean_squared_error(trainY, trainPredict))\n",
    "#print('Train Score: %.2f RMSE' % (trainScore))\n",
    "\n",
    "# Calculate RMSE for the train data\n",
    "trainScore = math.sqrt(mean_squared_error(trainY.reshape(-1, 5), trainPredict.reshape(-1, 5)))\n",
    "print('Train Score: %.2f RMSE' % (trainScore))"
   ]
  },
  {
   "cell_type": "code",
   "execution_count": 469,
   "id": "da34b84a",
   "metadata": {},
   "outputs": [
    {
     "name": "stdout",
     "output_type": "stream",
     "text": [
      "Mean Absolute Error (MAE): 0.060120333\n"
     ]
    }
   ],
   "source": [
    "from sklearn.metrics import mean_absolute_error\n",
    "\n",
    "# Calculate the Mean Absolute Error\n",
    "#mae = mean_absolute_error(testY, testPredict)\n",
    "#print(\"Mean Absolute Error (MAE):\", mae)\n",
    "\n",
    "# Calculate the Mean Absolute Error\n",
    "mae = mean_absolute_error(testY.reshape(-1, 5), testPredict.reshape(-1, 5))\n",
    "print(\"Mean Absolute Error (MAE):\", mae)\n"
   ]
  },
  {
   "cell_type": "code",
   "execution_count": 470,
   "id": "02cf46fa",
   "metadata": {},
   "outputs": [
    {
     "name": "stdout",
     "output_type": "stream",
     "text": [
      "Mean Absolute Percentage Error (MAPE): 0.32251984\n"
     ]
    }
   ],
   "source": [
    "from sklearn.metrics import mean_absolute_percentage_error\n",
    "\n",
    "# Calculate the Mean Absolute Percentage Error\n",
    "mae = mean_absolute_percentage_error(testY.reshape(-1, 5), testPredict.reshape(-1, 5))\n",
    "print(\"Mean Absolute Percentage Error (MAPE):\", mae)"
   ]
  },
  {
   "cell_type": "code",
   "execution_count": 471,
   "id": "a8ba47aa",
   "metadata": {},
   "outputs": [
    {
     "name": "stdout",
     "output_type": "stream",
     "text": [
      "Mean Absolute Percentage Error (MAPE): 0.32251984\n"
     ]
    }
   ],
   "source": [
    "from sklearn.metrics import mean_absolute_percentage_error\n",
    "\n",
    "# Calculate the Mean Absolute Percentage Error\n",
    "\n",
    "trainScore = mean_absolute_percentage_error(trainY.reshape(-1, 5), trainPredict.reshape(-1, 5))\n",
    "print(\"Mean Absolute Percentage Error (MAPE):\", mae)"
   ]
  },
  {
   "cell_type": "code",
   "execution_count": 472,
   "id": "1dce7759",
   "metadata": {},
   "outputs": [
    {
     "name": "stdout",
     "output_type": "stream",
     "text": [
      "Test Accuracy: 0.9460648148148149\n"
     ]
    }
   ],
   "source": [
    "from sklearn.metrics import accuracy_score\n",
    "# Set threshold \n",
    "threshold = 0.5\n",
    "# Binarize predictions \n",
    "test_pred_binary = (testPredict > threshold).astype(int)\n",
    "test_pred_binary = test_pred_binary.flatten() \n",
    "\n",
    "# Binarize true values\n",
    "test_true_binary = (testY > threshold).astype(int) \n",
    "test_true_binary = test_true_binary.flatten()\n",
    "\n",
    "# Calculate accuracy\n",
    "test_accuracy = accuracy_score(test_true_binary, test_pred_binary)\n",
    "\n",
    "print(\"Test Accuracy:\", test_accuracy)"
   ]
  },
  {
   "cell_type": "code",
   "execution_count": 473,
   "id": "78837ec3",
   "metadata": {},
   "outputs": [
    {
     "name": "stdout",
     "output_type": "stream",
     "text": [
      "Train Accuracy: 0.9430505197002659\n"
     ]
    }
   ],
   "source": [
    "# Set threshold\n",
    "threshold = 0.5\n",
    "\n",
    "# Binarize train predictions\n",
    "train_pred_binary = (trainPredict > threshold).astype(int)\n",
    "\n",
    "# Binarize train true values\n",
    "train_true_binary = (trainY > threshold).astype(int)\n",
    "\n",
    "# Flatten arrays \n",
    "train_pred_binary = train_pred_binary.flatten()\n",
    "train_true_binary = train_true_binary.flatten()\n",
    "\n",
    "# Calculate accuracy\n",
    "train_accuracy = accuracy_score(train_true_binary, train_pred_binary)\n",
    "\n",
    "print(\"Train Accuracy:\", train_accuracy)"
   ]
  },
  {
   "cell_type": "code",
   "execution_count": 475,
   "id": "8f1a0d57",
   "metadata": {},
   "outputs": [
    {
     "name": "stdout",
     "output_type": "stream",
     "text": [
      "5/5 [==============================] - 0s 4ms/step\n"
     ]
    }
   ],
   "source": [
    "predictions = model.predict(testX)"
   ]
  },
  {
   "cell_type": "code",
   "execution_count": 476,
   "id": "11bef8ef",
   "metadata": {},
   "outputs": [],
   "source": [
    "threshold = 0.5\n",
    "binary_predictions = (predictions > threshold).astype(int)\n",
    "binary_ground_truth = (testY > threshold).astype(int)"
   ]
  },
  {
   "cell_type": "code",
   "execution_count": 477,
   "id": "fcb58b32",
   "metadata": {},
   "outputs": [
    {
     "name": "stdout",
     "output_type": "stream",
     "text": [
      "Precision: 0.9734953064605191\n",
      "Recall: 0.9050308008213552\n",
      "F1-score: 0.9380154296355413\n"
     ]
    }
   ],
   "source": [
    "from sklearn.metrics import precision_score, recall_score, f1_score\n",
    "\n",
    "precision = precision_score(binary_ground_truth.flatten(), binary_predictions.flatten())\n",
    "recall = recall_score(binary_ground_truth.flatten(), binary_predictions.flatten())\n",
    "f1 = f1_score(binary_ground_truth.flatten(), binary_predictions.flatten())\n",
    "\n",
    "print(\"Precision:\", precision)\n",
    "print(\"Recall:\", recall)\n",
    "print(\"F1-score:\", f1)"
   ]
  },
  {
   "cell_type": "code",
   "execution_count": 478,
   "id": "24249b29",
   "metadata": {},
   "outputs": [
    {
     "name": "stdout",
     "output_type": "stream",
     "text": [
      "Mean Squared Error: 0.0075875786\n"
     ]
    }
   ],
   "source": [
    "from sklearn.metrics import mean_squared_error\n",
    "\n",
    "# Assuming predictions and ground truth are NumPy arrays or lists\n",
    "mse = mean_squared_error(testY.flatten(), predictions.flatten())\n",
    "\n",
    "print(\"Mean Squared Error:\", mse)"
   ]
  },
  {
   "cell_type": "code",
   "execution_count": 479,
   "id": "05c38caa",
   "metadata": {},
   "outputs": [
    {
     "name": "stdout",
     "output_type": "stream",
     "text": [
      "R-squared (R2): 0.894872877615476\n"
     ]
    }
   ],
   "source": [
    "from sklearn.metrics import r2_score\n",
    "\n",
    "# Assuming predictions and ground truth are NumPy arrays or lists\n",
    "r2 = r2_score(testY.flatten(), predictions.flatten())\n",
    "\n",
    "print(\"R-squared (R2):\", r2)"
   ]
  }
 ],
 "metadata": {
  "kernelspec": {
   "display_name": "Python 3 (ipykernel)",
   "language": "python",
   "name": "python3"
  },
  "language_info": {
   "codemirror_mode": {
    "name": "ipython",
    "version": 3
   },
   "file_extension": ".py",
   "mimetype": "text/x-python",
   "name": "python",
   "nbconvert_exporter": "python",
   "pygments_lexer": "ipython3",
   "version": "3.11.4"
  }
 },
 "nbformat": 4,
 "nbformat_minor": 5
}
