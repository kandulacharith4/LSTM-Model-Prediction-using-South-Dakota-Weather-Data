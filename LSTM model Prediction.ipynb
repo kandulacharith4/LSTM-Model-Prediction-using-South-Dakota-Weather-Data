{
 "cells": [
  {
   "cell_type": "code",
   "execution_count": 7,
   "id": "0abc0e7c",
   "metadata": {},
   "outputs": [],
   "source": [
    "import numpy as np\n",
    "import pandas as pd\n",
    "import matplotlib.pyplot as plt\n",
    "from sklearn.model_selection import train_test_split\n",
    "from sklearn.preprocessing import MinMaxScaler\n",
    "from tensorflow.keras.models import Sequential\n",
    "from tensorflow.keras.layers import LSTM, Dense, Dropout\n",
    "import math\n",
    "from sklearn.metrics import mean_squared_error"
   ]
  },
  {
   "cell_type": "code",
   "execution_count": 9,
   "id": "df461bb5",
   "metadata": {},
   "outputs": [],
   "source": [
    "from keras.models import Sequential\n",
    "from keras.layers import Dense\n",
    "from keras.layers import LSTM, Flatten\n",
    "from sklearn.preprocessing import MinMaxScaler\n",
    "from sklearn.metrics import mean_squared_error\n",
    "import numpy as np\n",
    "import pandas as pd\n",
    "import matplotlib.pyplot as plt\n",
    "from sklearn.model_selection import train_test_split\n",
    "from sklearn.preprocessing import MinMaxScaler\n",
    "from tensorflow.keras.models import Sequential\n",
    "from tensorflow.keras.layers import LSTM, Dense, Dropout\n",
    "import math\n",
    "from sklearn.metrics import mean_squared_error\n",
    "from keras.callbacks import EarlyStopping\n",
    "from keras.layers import ConvLSTM2D"
   ]
  },
  {
   "cell_type": "code",
   "execution_count": 10,
   "id": "68eb997e",
   "metadata": {},
   "outputs": [],
   "source": [
    "# Load your dataset\n",
    "# Replace this with your data loading code\n",
    "data = pd.read_csv('../south dakota weather data/South Dakota climate Data.csv')"
   ]
  },
  {
   "cell_type": "code",
   "execution_count": 11,
   "id": "9bc8e034",
   "metadata": {},
   "outputs": [],
   "source": [
    "# Choose the target columns (e.g., 'Avg. Temp', 'Min. Temp', 'Max. Temp', 'Precipitation', 'Heating Degrees Days', 'Cooling Degrees Days')\n",
    "data = data[['Avg. Temp', 'Min. Temp', 'Max. Temp', 'Precipitation', 'Heating Degrees Days']].values\n",
    "data = data.astype('float32') #convert values to float"
   ]
  },
  {
   "cell_type": "code",
   "execution_count": 12,
   "id": "1145d16a",
   "metadata": {},
   "outputs": [],
   "source": [
    "#LSTM uses sigmoid and tanh that are sensitive to magnitude so values need to be normalized\n",
    "# normalize the dataset\n",
    "scaler = MinMaxScaler(feature_range=(0, 1)) #Also try QuantileTransformer\n",
    "data = scaler.fit_transform(data)"
   ]
  },
  {
   "cell_type": "code",
   "execution_count": 13,
   "id": "5624106b",
   "metadata": {},
   "outputs": [
    {
     "data": {
      "text/plain": [
       "array([[0.79322034, 0.8188495 , 0.7704402 , 0.33234861, 0.04745255],\n",
       "       [0.8677966 , 0.90820074, 0.8333333 , 0.50812405, 0.00999001],\n",
       "       [0.8587571 , 0.89351285, 0.8291404 , 0.37666175, 0.01798202],\n",
       "       ...,\n",
       "       [0.3864407 , 0.376989  , 0.39308175, 0.15066469, 0.55444556],\n",
       "       [0.19548023, 0.20440637, 0.18763101, 0.10044312, 0.7327672 ],\n",
       "       [0.13672316, 0.13586292, 0.13836476, 0.0945347 , 0.8876124 ]],\n",
       "      dtype=float32)"
      ]
     },
     "execution_count": 13,
     "metadata": {},
     "output_type": "execute_result"
    }
   ],
   "source": [
    "data"
   ]
  },
  {
   "cell_type": "code",
   "execution_count": 14,
   "id": "efdb9e26",
   "metadata": {},
   "outputs": [
    {
     "name": "stdout",
     "output_type": "stream",
     "text": [
      "1390\n",
      "155\n"
     ]
    }
   ],
   "source": [
    "# Define the train-test split ratio (80:20)\n",
    "train_size = int(len(data) * 0.90)\n",
    "test_size = len(data) - train_size\n",
    "train, test = data[0:train_size, :], data[train_size:len(data), :]\n",
    "print(len(train))\n",
    "print(len(test))"
   ]
  },
  {
   "cell_type": "code",
   "execution_count": 15,
   "id": "e8e7909b",
   "metadata": {},
   "outputs": [],
   "source": [
    "def to_sequences(dataset, seq_size=6, step_size=1, target_size=6):\n",
    "    x = []\n",
    "    y = []\n",
    "\n",
    "    for i in range(0, len(dataset)-seq_size-target_size + 1, step_size):\n",
    "        #print(i)\n",
    "        window = dataset[i:(i+seq_size)]\n",
    "        x.append(window)\n",
    "        target = dataset[i + seq_size: i + seq_size + target_size]\n",
    "        y.append(target)\n",
    "    \n",
    "    return np.array(x),np.array(y)"
   ]
  },
  {
   "cell_type": "code",
   "execution_count": 16,
   "id": "22883e09",
   "metadata": {},
   "outputs": [],
   "source": [
    "seq_size = 6  # Number of time steps to look back\n",
    "step_size=1   # Number of steps that is going to increase for the next sequence\n",
    "target_size=6 # Number of values that is going to generate as the output"
   ]
  },
  {
   "cell_type": "code",
   "execution_count": 17,
   "id": "5178cd74",
   "metadata": {},
   "outputs": [],
   "source": [
    "trainX, trainY = to_sequences(train, seq_size, step_size, target_size)\n",
    "testX, testY = to_sequences(test, seq_size, step_size, target_size)"
   ]
  },
  {
   "cell_type": "code",
   "execution_count": 18,
   "id": "0fde2394",
   "metadata": {},
   "outputs": [
    {
     "data": {
      "text/plain": [
       "(1379, 6, 5)"
      ]
     },
     "execution_count": 18,
     "metadata": {},
     "output_type": "execute_result"
    }
   ],
   "source": [
    "trainX.shape"
   ]
  },
  {
   "cell_type": "code",
   "execution_count": 19,
   "id": "4935b79b",
   "metadata": {},
   "outputs": [
    {
     "data": {
      "text/plain": [
       "(1379, 6, 5)"
      ]
     },
     "execution_count": 19,
     "metadata": {},
     "output_type": "execute_result"
    }
   ],
   "source": [
    "trainY.shape"
   ]
  },
  {
   "cell_type": "code",
   "execution_count": 20,
   "id": "6bef2d42",
   "metadata": {},
   "outputs": [
    {
     "data": {
      "text/plain": [
       "(144, 6, 5)"
      ]
     },
     "execution_count": 20,
     "metadata": {},
     "output_type": "execute_result"
    }
   ],
   "source": [
    "testX.shape"
   ]
  },
  {
   "cell_type": "code",
   "execution_count": 21,
   "id": "556bfa93",
   "metadata": {},
   "outputs": [
    {
     "data": {
      "text/plain": [
       "(144, 6, 5)"
      ]
     },
     "execution_count": 21,
     "metadata": {},
     "output_type": "execute_result"
    }
   ],
   "source": [
    "testY.shape"
   ]
  },
  {
   "cell_type": "code",
   "execution_count": 22,
   "id": "1fa70b66",
   "metadata": {},
   "outputs": [],
   "source": [
    "from tensorflow.keras.layers import TimeDistributed\n",
    "\n",
    "# Build the model\n",
    "model = Sequential()\n",
    "model.add(LSTM(50, input_shape=(seq_size, 5), return_sequences=True))\n",
    "model.add(Dropout(0.2))\n",
    "model.add(LSTM(50, return_sequences=True))\n",
    "model.add(Dropout(0.2))\n",
    "model.add(LSTM(50, return_sequences=True))\n",
    "model.add(Dropout(0.2))\n",
    "model.add(Dense(5))  # Adjust the output shape to (5)\n",
    "\n",
    "model.compile(loss='mean_squared_error', optimizer='adam', metrics=['mean_absolute_error'])"
   ]
  },
  {
   "cell_type": "code",
   "execution_count": 23,
   "id": "8092e1f6",
   "metadata": {},
   "outputs": [
    {
     "name": "stdout",
     "output_type": "stream",
     "text": [
      "Model: \"sequential\"\n",
      "_________________________________________________________________\n",
      " Layer (type)                Output Shape              Param #   \n",
      "=================================================================\n",
      " lstm (LSTM)                 (None, 6, 50)             11200     \n",
      "                                                                 \n",
      " dropout (Dropout)           (None, 6, 50)             0         \n",
      "                                                                 \n",
      " lstm_1 (LSTM)               (None, 6, 50)             20200     \n",
      "                                                                 \n",
      " dropout_1 (Dropout)         (None, 6, 50)             0         \n",
      "                                                                 \n",
      " lstm_2 (LSTM)               (None, 6, 50)             20200     \n",
      "                                                                 \n",
      " dropout_2 (Dropout)         (None, 6, 50)             0         \n",
      "                                                                 \n",
      " dense (Dense)               (None, 6, 5)              255       \n",
      "                                                                 \n",
      "=================================================================\n",
      "Total params: 51855 (202.56 KB)\n",
      "Trainable params: 51855 (202.56 KB)\n",
      "Non-trainable params: 0 (0.00 Byte)\n",
      "_________________________________________________________________\n"
     ]
    }
   ],
   "source": [
    "# Define early stopping\n",
    "early_stopping = EarlyStopping(monitor='val_loss', patience=10)\n",
    "\n",
    "model.summary()"
   ]
  },
  {
   "cell_type": "code",
   "execution_count": 24,
   "id": "073f4c5f",
   "metadata": {},
   "outputs": [
    {
     "name": "stdout",
     "output_type": "stream",
     "text": [
      "Epoch 1/100\n",
      "28/28 [==============================] - 4s 35ms/step - loss: 0.1841 - mean_absolute_error: 0.3513 - val_loss: 0.1170 - val_mean_absolute_error: 0.2736\n",
      "Epoch 2/100\n",
      "28/28 [==============================] - 0s 9ms/step - loss: 0.1085 - mean_absolute_error: 0.2626 - val_loss: 0.0901 - val_mean_absolute_error: 0.2413\n",
      "Epoch 3/100\n",
      "28/28 [==============================] - 0s 9ms/step - loss: 0.0821 - mean_absolute_error: 0.2305 - val_loss: 0.0657 - val_mean_absolute_error: 0.2089\n",
      "Epoch 4/100\n",
      "28/28 [==============================] - 0s 9ms/step - loss: 0.0576 - mean_absolute_error: 0.1910 - val_loss: 0.0409 - val_mean_absolute_error: 0.1535\n",
      "Epoch 5/100\n",
      "28/28 [==============================] - 0s 9ms/step - loss: 0.0364 - mean_absolute_error: 0.1447 - val_loss: 0.0242 - val_mean_absolute_error: 0.1137\n",
      "Epoch 6/100\n",
      "28/28 [==============================] - 0s 9ms/step - loss: 0.0253 - mean_absolute_error: 0.1206 - val_loss: 0.0174 - val_mean_absolute_error: 0.0979\n",
      "Epoch 7/100\n",
      "28/28 [==============================] - 0s 9ms/step - loss: 0.0198 - mean_absolute_error: 0.1074 - val_loss: 0.0124 - val_mean_absolute_error: 0.0815\n",
      "Epoch 8/100\n",
      "28/28 [==============================] - 0s 9ms/step - loss: 0.0161 - mean_absolute_error: 0.0969 - val_loss: 0.0106 - val_mean_absolute_error: 0.0753\n",
      "Epoch 9/100\n",
      "28/28 [==============================] - 0s 9ms/step - loss: 0.0143 - mean_absolute_error: 0.0912 - val_loss: 0.0097 - val_mean_absolute_error: 0.0719\n",
      "Epoch 10/100\n",
      "28/28 [==============================] - 0s 9ms/step - loss: 0.0134 - mean_absolute_error: 0.0886 - val_loss: 0.0084 - val_mean_absolute_error: 0.0655\n",
      "Epoch 11/100\n",
      "28/28 [==============================] - 0s 9ms/step - loss: 0.0127 - mean_absolute_error: 0.0863 - val_loss: 0.0083 - val_mean_absolute_error: 0.0654\n",
      "Epoch 12/100\n",
      "28/28 [==============================] - 0s 9ms/step - loss: 0.0125 - mean_absolute_error: 0.0858 - val_loss: 0.0077 - val_mean_absolute_error: 0.0625\n",
      "Epoch 13/100\n",
      "28/28 [==============================] - 0s 9ms/step - loss: 0.0118 - mean_absolute_error: 0.0831 - val_loss: 0.0077 - val_mean_absolute_error: 0.0630\n",
      "Epoch 14/100\n",
      "28/28 [==============================] - 0s 9ms/step - loss: 0.0115 - mean_absolute_error: 0.0818 - val_loss: 0.0077 - val_mean_absolute_error: 0.0631\n",
      "Epoch 15/100\n",
      "28/28 [==============================] - 0s 9ms/step - loss: 0.0113 - mean_absolute_error: 0.0812 - val_loss: 0.0079 - val_mean_absolute_error: 0.0640\n",
      "Epoch 16/100\n",
      "28/28 [==============================] - 0s 10ms/step - loss: 0.0113 - mean_absolute_error: 0.0811 - val_loss: 0.0075 - val_mean_absolute_error: 0.0620\n",
      "Epoch 17/100\n",
      "28/28 [==============================] - 0s 10ms/step - loss: 0.0112 - mean_absolute_error: 0.0806 - val_loss: 0.0075 - val_mean_absolute_error: 0.0627\n",
      "Epoch 18/100\n",
      "28/28 [==============================] - 0s 11ms/step - loss: 0.0109 - mean_absolute_error: 0.0796 - val_loss: 0.0075 - val_mean_absolute_error: 0.0623\n",
      "Epoch 19/100\n",
      "28/28 [==============================] - 0s 10ms/step - loss: 0.0108 - mean_absolute_error: 0.0792 - val_loss: 0.0075 - val_mean_absolute_error: 0.0615\n",
      "Epoch 20/100\n",
      "28/28 [==============================] - 0s 10ms/step - loss: 0.0107 - mean_absolute_error: 0.0789 - val_loss: 0.0077 - val_mean_absolute_error: 0.0624\n",
      "Epoch 21/100\n",
      "28/28 [==============================] - 0s 11ms/step - loss: 0.0108 - mean_absolute_error: 0.0791 - val_loss: 0.0078 - val_mean_absolute_error: 0.0637\n",
      "Epoch 22/100\n",
      "28/28 [==============================] - 0s 12ms/step - loss: 0.0105 - mean_absolute_error: 0.0778 - val_loss: 0.0078 - val_mean_absolute_error: 0.0637\n",
      "Epoch 23/100\n",
      "28/28 [==============================] - 0s 12ms/step - loss: 0.0104 - mean_absolute_error: 0.0777 - val_loss: 0.0073 - val_mean_absolute_error: 0.0610\n",
      "Epoch 24/100\n",
      "28/28 [==============================] - 0s 12ms/step - loss: 0.0103 - mean_absolute_error: 0.0769 - val_loss: 0.0071 - val_mean_absolute_error: 0.0596\n",
      "Epoch 25/100\n",
      "28/28 [==============================] - 0s 10ms/step - loss: 0.0102 - mean_absolute_error: 0.0768 - val_loss: 0.0073 - val_mean_absolute_error: 0.0607\n",
      "Epoch 26/100\n",
      "28/28 [==============================] - 0s 10ms/step - loss: 0.0102 - mean_absolute_error: 0.0767 - val_loss: 0.0070 - val_mean_absolute_error: 0.0592\n",
      "Epoch 27/100\n",
      "28/28 [==============================] - 0s 10ms/step - loss: 0.0102 - mean_absolute_error: 0.0763 - val_loss: 0.0069 - val_mean_absolute_error: 0.0584\n",
      "Epoch 28/100\n",
      "28/28 [==============================] - 0s 10ms/step - loss: 0.0099 - mean_absolute_error: 0.0755 - val_loss: 0.0074 - val_mean_absolute_error: 0.0610\n",
      "Epoch 29/100\n",
      "28/28 [==============================] - 0s 9ms/step - loss: 0.0100 - mean_absolute_error: 0.0760 - val_loss: 0.0076 - val_mean_absolute_error: 0.0622\n",
      "Epoch 30/100\n",
      "28/28 [==============================] - 0s 9ms/step - loss: 0.0100 - mean_absolute_error: 0.0758 - val_loss: 0.0071 - val_mean_absolute_error: 0.0590\n",
      "Epoch 31/100\n",
      "28/28 [==============================] - 0s 9ms/step - loss: 0.0100 - mean_absolute_error: 0.0756 - val_loss: 0.0075 - val_mean_absolute_error: 0.0616\n",
      "Epoch 32/100\n",
      "28/28 [==============================] - 0s 9ms/step - loss: 0.0099 - mean_absolute_error: 0.0753 - val_loss: 0.0076 - val_mean_absolute_error: 0.0619\n",
      "Epoch 33/100\n",
      "28/28 [==============================] - 0s 10ms/step - loss: 0.0097 - mean_absolute_error: 0.0744 - val_loss: 0.0067 - val_mean_absolute_error: 0.0577\n",
      "Epoch 34/100\n",
      "28/28 [==============================] - 0s 9ms/step - loss: 0.0097 - mean_absolute_error: 0.0746 - val_loss: 0.0067 - val_mean_absolute_error: 0.0571\n",
      "Epoch 35/100\n",
      "28/28 [==============================] - 0s 9ms/step - loss: 0.0097 - mean_absolute_error: 0.0743 - val_loss: 0.0068 - val_mean_absolute_error: 0.0579\n",
      "Epoch 36/100\n",
      "28/28 [==============================] - 0s 9ms/step - loss: 0.0097 - mean_absolute_error: 0.0742 - val_loss: 0.0071 - val_mean_absolute_error: 0.0596\n",
      "Epoch 37/100\n",
      "28/28 [==============================] - 0s 9ms/step - loss: 0.0097 - mean_absolute_error: 0.0744 - val_loss: 0.0079 - val_mean_absolute_error: 0.0638\n",
      "Epoch 38/100\n",
      "28/28 [==============================] - 0s 9ms/step - loss: 0.0096 - mean_absolute_error: 0.0742 - val_loss: 0.0075 - val_mean_absolute_error: 0.0613\n",
      "Epoch 39/100\n",
      "28/28 [==============================] - 0s 9ms/step - loss: 0.0096 - mean_absolute_error: 0.0740 - val_loss: 0.0074 - val_mean_absolute_error: 0.0609\n",
      "Epoch 40/100\n",
      "28/28 [==============================] - 0s 9ms/step - loss: 0.0094 - mean_absolute_error: 0.0730 - val_loss: 0.0070 - val_mean_absolute_error: 0.0592\n",
      "Epoch 41/100\n",
      "28/28 [==============================] - 0s 9ms/step - loss: 0.0094 - mean_absolute_error: 0.0729 - val_loss: 0.0067 - val_mean_absolute_error: 0.0572\n",
      "Epoch 42/100\n",
      "28/28 [==============================] - 0s 9ms/step - loss: 0.0094 - mean_absolute_error: 0.0728 - val_loss: 0.0070 - val_mean_absolute_error: 0.0588\n",
      "Epoch 43/100\n",
      "28/28 [==============================] - 0s 9ms/step - loss: 0.0093 - mean_absolute_error: 0.0724 - val_loss: 0.0068 - val_mean_absolute_error: 0.0580\n",
      "Epoch 44/100\n",
      "28/28 [==============================] - 0s 9ms/step - loss: 0.0093 - mean_absolute_error: 0.0727 - val_loss: 0.0069 - val_mean_absolute_error: 0.0578\n"
     ]
    }
   ],
   "source": [
    "# Train the model\n",
    "history = model.fit(trainX, trainY, epochs=100, batch_size=50, validation_data=(testX, testY), callbacks=[early_stopping])"
   ]
  },
  {
   "cell_type": "code",
   "execution_count": 25,
   "id": "8a57003f",
   "metadata": {},
   "outputs": [
    {
     "data": {
      "text/plain": [
       "<matplotlib.legend.Legend at 0x234d5f07950>"
      ]
     },
     "execution_count": 25,
     "metadata": {},
     "output_type": "execute_result"
    },
    {
     "data": {
      "image/png": "[encoded data removed]",
      "text/plain": [
       "<Figure size 640x480 with 1 Axes>"
      ]
     },
     "metadata": {},
     "output_type": "display_data"
    }
   ],
   "source": [
    "plt.plot(history.history['loss'],label='Training loss')\n",
    "plt.plot(history.history['val_loss'],label='Validation Loss')\n",
    "plt.legend()"
   ]
  },
  {
   "cell_type": "code",
   "execution_count": 26,
   "id": "90395989",
   "metadata": {},
   "outputs": [
    {
     "data": {
      "text/plain": [
       "<matplotlib.legend.Legend at 0x234d7ec1890>"
      ]
     },
     "execution_count": 26,
     "metadata": {},
     "output_type": "execute_result"
    },
    {
     "data": {
      "image/png": "[encoded data removed]",
      "text/plain": [
       "<Figure size 640x480 with 1 Axes>"
      ]
     },
     "metadata": {},
     "output_type": "display_data"
    }
   ],
   "source": [
    "plt.plot(history.history['mean_absolute_error'],label='Mean absolute error')\n",
    "plt.plot(history.history['val_mean_absolute_error'],label='Val_mean absolute error')\n",
    "plt.legend()"
   ]
  },
  {
   "cell_type": "code",
   "execution_count": 27,
   "id": "8a9ee92e",
   "metadata": {},
   "outputs": [
    {
     "data": {
      "text/plain": [
       "(1379, 6, 5)"
      ]
     },
     "execution_count": 27,
     "metadata": {},
     "output_type": "execute_result"
    }
   ],
   "source": [
    "trainX.shape"
   ]
  },
  {
   "cell_type": "code",
   "execution_count": 28,
   "id": "cf8d9890",
   "metadata": {},
   "outputs": [
    {
     "name": "stdout",
     "output_type": "stream",
     "text": [
      "5/5 [==============================] - 1s 2ms/step\n",
      "True Values (TestY):\n",
      "[[0.60112995 0.61811507 0.5849057  0.6129985  0.26273727]\n",
      " [0.48700568 0.49694005 0.4769392  0.11669128 0.4110889 ]\n",
      " [0.46101692 0.47368422 0.4486373  0.06942392 0.44905096]\n",
      " [0.3062147  0.3243574  0.29140463 0.07385524 0.5949051 ]\n",
      " [0.12655367 0.13341494 0.12054508 0.1536189  0.8906094 ]\n",
      " [0.29265538 0.3133415  0.2746331  0.10782865 0.66933066]]\n",
      "Predicted Values:\n",
      "[[0.73066497 0.75501025 0.71082276 0.32308376 0.12343688]\n",
      " [0.5951604  0.6114906  0.57625866 0.2669021  0.25966576]\n",
      " [0.45171165 0.46421784 0.43432522 0.1863478  0.43841064]\n",
      " [0.32629684 0.33904827 0.30893603 0.10959514 0.5928519 ]\n",
      " [0.25599724 0.27174887 0.23695521 0.06068679 0.69575423]\n",
      " [0.29344243 0.31088877 0.27373958 0.06612056 0.64140844]]\n"
     ]
    }
   ],
   "source": [
    "# Make predictions on the test data\n",
    "testPredict = model.predict(testX)\n",
    "\n",
    "# Inverse transform the predictions to the original scale\n",
    "#testPredict = scaler.inverse_transform(testPredict)\n",
    "\n",
    "# Optionally, inverse transform the testY (true values) if it was scaled\n",
    "#testY = scaler.inverse_transform(testY)\n",
    "\n",
    "# Now, you can compare the testY (true values) with the predicted values\n",
    "# For example, to check the predictions for the first sequence:\n",
    "print(\"True Values (TestY):\")\n",
    "print(testY[0])  # This contains the true values for the first sequence\n",
    "\n",
    "print(\"Predicted Values:\")\n",
    "print(testPredict[0])  # This contains the predicted values for the first sequence"
   ]
  },
  {
   "cell_type": "code",
   "execution_count": 29,
   "id": "c9b77a9b",
   "metadata": {},
   "outputs": [
    {
     "name": "stdout",
     "output_type": "stream",
     "text": [
      "5/5 [==============================] - 0s 3ms/step\n"
     ]
    }
   ],
   "source": [
    "# After training, you can make predictions on the test data\n",
    "testPredict = model.predict(testX)"
   ]
  },
  {
   "cell_type": "code",
   "execution_count": 30,
   "id": "d1298dfc",
   "metadata": {},
   "outputs": [],
   "source": [
    "# Inverse transform the predictions to the original scale if you had previously scaled your data using a MinMaxScaler\n",
    "#testPredict = scaler.inverse_transform(testPredict)"
   ]
  },
  {
   "cell_type": "code",
   "execution_count": 31,
   "id": "d9f20790",
   "metadata": {},
   "outputs": [
    {
     "name": "stdout",
     "output_type": "stream",
     "text": [
      "44/44 [==============================] - 0s 2ms/step\n",
      "True Values (TrainY):\n",
      "[[0.32881355 0.36597306 0.2976939  0.16248153 0.6228771 ]\n",
      " [0.30847457 0.32190943 0.29559746 0.10339733 0.6143856 ]\n",
      " [0.2836158  0.32680538 0.24633124 0.11669128 0.7117882 ]\n",
      " [0.23050848 0.25948593 0.20440254 0.20827177 0.7557442 ]\n",
      " [0.38757062 0.40758872 0.3710692  0.07090104 0.5194805 ]\n",
      " [0.6180791  0.61933905 0.6163522  0.08124077 0.24075924]]\n",
      "Predicted Values:\n",
      "[[0.32997045 0.35050625 0.3155443  0.10830166 0.5833764 ]\n",
      " [0.25423005 0.2761422  0.2390652  0.06092481 0.69776756]\n",
      " [0.2619225  0.28571174 0.2449905  0.05405037 0.6954195 ]\n",
      " [0.2761407  0.30035967 0.2582145  0.05228933 0.6759784 ]\n",
      " [0.36616927 0.38829488 0.34880012 0.08501561 0.5448056 ]\n",
      " [0.5746358  0.59287494 0.5597369  0.16898948 0.28728116]]\n"
     ]
    }
   ],
   "source": [
    "trainPredict = model.predict(trainX)\n",
    "\n",
    "# Inverse transform the predictions to the original scale\n",
    "#trainPredict = scaler.inverse_transform(trainPredict)\n",
    "\n",
    "# Optionally, inverse transform the trainY (true values) if it was scaled\n",
    "#trainY = scaler.inverse_transform(trainY)\n",
    "\n",
    "# Now, you can compare the trainY (true values) with the predicted values\n",
    "# For example, to check the predictions for the first sequence:\n",
    "print(\"True Values (TrainY):\")\n",
    "print(trainY[0])  # This contains the true values for the first sequence\n",
    "\n",
    "print(\"Predicted Values:\")\n",
    "print(trainPredict[0])  # This contains the predicted values for the first sequence\n"
   ]
  },
  {
   "cell_type": "code",
   "execution_count": 32,
   "id": "87c56c00",
   "metadata": {},
   "outputs": [
    {
     "name": "stdout",
     "output_type": "stream",
     "text": [
      "44/44 [==============================] - 0s 2ms/step\n"
     ]
    }
   ],
   "source": [
    "trainPredict = model.predict(trainX)"
   ]
  },
  {
   "cell_type": "code",
   "execution_count": 33,
   "id": "a226279a",
   "metadata": {},
   "outputs": [],
   "source": [
    "# Inverse transform the predictions to the original scale if you had previously scaled your data using a MinMaxScaler\n",
    "#testPredict = scaler.inverse_transform(testPredict)"
   ]
  },
  {
   "cell_type": "code",
   "execution_count": 34,
   "id": "0eec2e42",
   "metadata": {},
   "outputs": [
    {
     "name": "stdout",
     "output_type": "stream",
     "text": [
      "Test Score: 0.08 RMSE\n"
     ]
    }
   ],
   "source": [
    "# You can also optionally inverse transform the testY (true values) if it was scaled\n",
    "# testY = scaler.inverse_transform(testY)\n",
    "\n",
    "# Calculate RMSE for the test data\n",
    "#testScore = math.sqrt(mean_squared_error(testY, testPredict))\n",
    "#print('Test Score: %.2f RMSE' % (testScore))\n",
    "\n",
    "# Calculate RMSE for the test data\n",
    "testScore = math.sqrt(mean_squared_error(testY.reshape(-1, 5), testPredict.reshape(-1, 5)))\n",
    "print('Test Score: %.2f RMSE' % (testScore))\n"
   ]
  },
  {
   "cell_type": "code",
   "execution_count": 35,
   "id": "bb29682a",
   "metadata": {
    "scrolled": true
   },
   "outputs": [
    {
     "name": "stdout",
     "output_type": "stream",
     "text": [
      "Train Score: 0.08 RMSE\n"
     ]
    }
   ],
   "source": [
    "# You can also optionally inverse transform the testY (true values) if it was scaled\n",
    "# testY = scaler.inverse_transform(testY)\n",
    "\n",
    "# Calculate RMSE for the test data\n",
    "#trainScore = math.sqrt(mean_squared_error(trainY, trainPredict))\n",
    "#print('Train Score: %.2f RMSE' % (trainScore))\n",
    "\n",
    "# Calculate RMSE for the train data\n",
    "trainScore = math.sqrt(mean_squared_error(trainY.reshape(-1, 5), trainPredict.reshape(-1, 5)))\n",
    "print('Train Score: %.2f RMSE' % (trainScore))"
   ]
  },
  {
   "cell_type": "code",
   "execution_count": 36,
   "id": "db9be2d2",
   "metadata": {},
   "outputs": [
    {
     "name": "stdout",
     "output_type": "stream",
     "text": [
      "Mean Absolute Error (MAE): 0.05782311\n"
     ]
    }
   ],
   "source": [
    "from sklearn.metrics import mean_absolute_error\n",
    "\n",
    "# Calculate the Mean Absolute Error\n",
    "#mae = mean_absolute_error(testY, testPredict)\n",
    "#print(\"Mean Absolute Error (MAE):\", mae)\n",
    "\n",
    "# Calculate the Mean Absolute Error\n",
    "mae = mean_absolute_error(testY.reshape(-1, 5), testPredict.reshape(-1, 5))\n",
    "print(\"Mean Absolute Error (MAE):\", mae)\n"
   ]
  },
  {
   "cell_type": "code",
   "execution_count": 37,
   "id": "e41734d6",
   "metadata": {},
   "outputs": [
    {
     "name": "stdout",
     "output_type": "stream",
     "text": [
      "Mean Absolute Percentage Error (MAPE): 0.3204997\n"
     ]
    }
   ],
   "source": [
    "from sklearn.metrics import mean_absolute_percentage_error\n",
    "\n",
    "# Calculate the Mean Absolute Percentage Error\n",
    "mae = mean_absolute_percentage_error(testY.reshape(-1, 5), testPredict.reshape(-1, 5))\n",
    "print(\"Mean Absolute Percentage Error (MAPE):\", mae)"
   ]
  },
  {
   "cell_type": "code",
   "execution_count": 38,
   "id": "e212de1e",
   "metadata": {},
   "outputs": [
    {
     "name": "stdout",
     "output_type": "stream",
     "text": [
      "Mean Absolute Percentage Error (MAPE): 0.3204997\n"
     ]
    }
   ],
   "source": [
    "from sklearn.metrics import mean_absolute_percentage_error\n",
    "\n",
    "# Calculate the Mean Absolute Percentage Error\n",
    "\n",
    "trainScore = mean_absolute_percentage_error(trainY.reshape(-1, 5), trainPredict.reshape(-1, 5))\n",
    "print(\"Mean Absolute Percentage Error (MAPE):\", mae)"
   ]
  },
  {
   "cell_type": "code",
   "execution_count": 39,
   "id": "57166d5a",
   "metadata": {},
   "outputs": [
    {
     "name": "stdout",
     "output_type": "stream",
     "text": [
      "Test Accuracy: 0.9488425925925926\n"
     ]
    }
   ],
   "source": [
    "from sklearn.metrics import accuracy_score\n",
    "# Set threshold \n",
    "threshold = 0.5\n",
    "# Binarize predictions \n",
    "test_pred_binary = (testPredict > threshold).astype(int)\n",
    "test_pred_binary = test_pred_binary.flatten() \n",
    "\n",
    "# Binarize true values\n",
    "test_true_binary = (testY > threshold).astype(int) \n",
    "test_true_binary = test_true_binary.flatten()\n",
    "\n",
    "# Calculate accuracy\n",
    "test_accuracy = accuracy_score(test_true_binary, test_pred_binary)\n",
    "\n",
    "print(\"Test Accuracy:\", test_accuracy)"
   ]
  },
  {
   "cell_type": "code",
   "execution_count": 40,
   "id": "e9c606e3",
   "metadata": {},
   "outputs": [
    {
     "name": "stdout",
     "output_type": "stream",
     "text": [
      "Train Accuracy: 0.9429054870679237\n"
     ]
    }
   ],
   "source": [
    "# Set threshold\n",
    "threshold = 0.5\n",
    "\n",
    "# Binarize train predictions\n",
    "train_pred_binary = (trainPredict > threshold).astype(int)\n",
    "\n",
    "# Binarize train true values\n",
    "train_true_binary = (trainY > threshold).astype(int)\n",
    "\n",
    "# Flatten arrays \n",
    "train_pred_binary = train_pred_binary.flatten()\n",
    "train_true_binary = train_true_binary.flatten()\n",
    "\n",
    "# Calculate accuracy\n",
    "train_accuracy = accuracy_score(train_true_binary, train_pred_binary)\n",
    "\n",
    "print(\"Train Accuracy:\", train_accuracy)"
   ]
  },
  {
   "cell_type": "code",
   "execution_count": 41,
   "id": "969f341d",
   "metadata": {},
   "outputs": [
    {
     "name": "stdout",
     "output_type": "stream",
     "text": [
      "5/5 [==============================] - 0s 3ms/step\n"
     ]
    }
   ],
   "source": [
    "predictions = model.predict(testX)"
   ]
  },
  {
   "cell_type": "code",
   "execution_count": 42,
   "id": "26f6a65f",
   "metadata": {},
   "outputs": [],
   "source": [
    "threshold = 0.5\n",
    "binary_predictions = (predictions > threshold).astype(int)\n",
    "binary_ground_truth = (testY > threshold).astype(int)"
   ]
  },
  {
   "cell_type": "code",
   "execution_count": 43,
   "id": "0e76fb17",
   "metadata": {},
   "outputs": [
    {
     "name": "stdout",
     "output_type": "stream",
     "text": [
      "Precision: 0.9897901304594441\n",
      "Recall: 0.8957905544147844\n",
      "F1-score: 0.9404473187819994\n"
     ]
    }
   ],
   "source": [
    "from sklearn.metrics import precision_score, recall_score, f1_score\n",
    "\n",
    "precision = precision_score(binary_ground_truth.flatten(), binary_predictions.flatten())\n",
    "recall = recall_score(binary_ground_truth.flatten(), binary_predictions.flatten())\n",
    "f1 = f1_score(binary_ground_truth.flatten(), binary_predictions.flatten())\n",
    "\n",
    "print(\"Precision:\", precision)\n",
    "print(\"Recall:\", recall)\n",
    "print(\"F1-score:\", f1)\n"
   ]
  },
  {
   "cell_type": "code",
   "execution_count": 44,
   "id": "cd3450ac",
   "metadata": {},
   "outputs": [
    {
     "name": "stdout",
     "output_type": "stream",
     "text": [
      "Mean Squared Error: 0.006887497\n"
     ]
    }
   ],
   "source": [
    "from sklearn.metrics import mean_squared_error\n",
    "\n",
    "# Assuming predictions and ground truth are NumPy arrays or lists\n",
    "mse = mean_squared_error(testY.flatten(), predictions.flatten())\n",
    "\n",
    "print(\"Mean Squared Error:\", mse)"
   ]
  },
  {
   "cell_type": "code",
   "execution_count": 45,
   "id": "74cb55b5",
   "metadata": {},
   "outputs": [
    {
     "name": "stdout",
     "output_type": "stream",
     "text": [
      "R-squared (R2): 0.9045726220852164\n"
     ]
    }
   ],
   "source": [
    "from sklearn.metrics import r2_score\n",
    "\n",
    "# Assuming predictions and ground truth are NumPy arrays or lists\n",
    "r2 = r2_score(testY.flatten(), predictions.flatten())\n",
    "\n",
    "print(\"R-squared (R2):\", r2)"
   ]
  }
 ],
 "metadata": {
  "kernelspec": {
   "display_name": "Python 3 (ipykernel)",
   "language": "python",
   "name": "python3"
  },
  "language_info": {
   "codemirror_mode": {
    "name": "ipython",
    "version": 3
   },
   "file_extension": ".py",
   "mimetype": "text/x-python",
   "name": "python",
   "nbconvert_exporter": "python",
   "pygments_lexer": "ipython3",
   "version": "3.11.4"
  }
 },
 "nbformat": 4,
 "nbformat_minor": 5
}
