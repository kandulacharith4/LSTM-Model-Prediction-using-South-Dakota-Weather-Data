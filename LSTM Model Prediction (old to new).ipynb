{
 "cells": [
  {
   "cell_type": "code",
   "execution_count": 1,
   "id": "cea27e73",
   "metadata": {},
   "outputs": [],
   "source": [
    "import numpy as np\n",
    "import pandas as pd\n",
    "import matplotlib.pyplot as plt\n",
    "from sklearn.model_selection import train_test_split\n",
    "from sklearn.preprocessing import MinMaxScaler\n",
    "from tensorflow.keras.models import Sequential\n",
    "from tensorflow.keras.layers import LSTM, Dense, Dropout\n",
    "import math\n",
    "from sklearn.metrics import mean_squared_error"
   ]
  },
  {
   "cell_type": "code",
   "execution_count": 2,
   "id": "c1c4725d",
   "metadata": {},
   "outputs": [],
   "source": [
    "from keras.models import Sequential\n",
    "from keras.layers import Dense\n",
    "from keras.layers import LSTM, Flatten\n",
    "from sklearn.preprocessing import MinMaxScaler\n",
    "from sklearn.metrics import mean_squared_error\n",
    "from keras.callbacks import EarlyStopping\n",
    "from keras.layers import ConvLSTM2D"
   ]
  },
  {
   "cell_type": "code",
   "execution_count": 3,
   "id": "eab49afa",
   "metadata": {},
   "outputs": [],
   "source": [
    "# Load your dataset\n",
    "# Replace this with your data loading code\n",
    "data = pd.read_csv('../south dakota weather data/South_Dakota_climate_Data_1.csv')"
   ]
  },
  {
   "cell_type": "code",
   "execution_count": 4,
   "id": "dc07d8bb",
   "metadata": {},
   "outputs": [],
   "source": [
    "# Choose the target columns (e.g., 'Avg. Temp', 'Min. Temp', 'Max. Temp', 'Precipitation', 'Heating Degrees Days', 'Cooling Degrees Days')\n",
    "data = data[['Avg. Temp', 'Min. Temp', 'Max. Temp', 'Precipitation', 'Heating Degrees Days']].values\n",
    "data = data.astype('float32') #convert values to float"
   ]
  },
  {
   "cell_type": "code",
   "execution_count": 5,
   "id": "f784a170",
   "metadata": {},
   "outputs": [],
   "source": [
    "#LSTM uses sigmoid and tanh that are sensitive to magnitude so values need to be normalized\n",
    "# normalize the dataset\n",
    "scaler = MinMaxScaler(feature_range=(0, 1)) #Also try QuantileTransformer\n",
    "data = scaler.fit_transform(data)"
   ]
  },
  {
   "cell_type": "code",
   "execution_count": 6,
   "id": "831086d1",
   "metadata": {},
   "outputs": [
    {
     "data": {
      "text/plain": [
       "array([[0.13672316, 0.13586292, 0.13836476, 0.0945347 , 0.8876124 ],\n",
       "       [0.19548023, 0.20440637, 0.18763101, 0.10044312, 0.7327672 ],\n",
       "       [0.3864407 , 0.376989  , 0.39308175, 0.15066469, 0.55444556],\n",
       "       ...,\n",
       "       [0.8587571 , 0.89351285, 0.8291404 , 0.37666175, 0.01798202],\n",
       "       [0.8677966 , 0.90820074, 0.8333333 , 0.50812405, 0.00999001],\n",
       "       [0.79322034, 0.8188495 , 0.7704402 , 0.33234861, 0.04745255]],\n",
       "      dtype=float32)"
      ]
     },
     "execution_count": 6,
     "metadata": {},
     "output_type": "execute_result"
    }
   ],
   "source": [
    "data"
   ]
  },
  {
   "cell_type": "code",
   "execution_count": 7,
   "id": "21f7083d",
   "metadata": {},
   "outputs": [
    {
     "name": "stdout",
     "output_type": "stream",
     "text": [
      "1390\n",
      "155\n"
     ]
    }
   ],
   "source": [
    "# Define the train-test split ratio (80:20)\n",
    "train_size = int(len(data) * 0.90)\n",
    "test_size = len(data) - train_size\n",
    "train, test = data[0:train_size, :], data[train_size:len(data), :]\n",
    "print(len(train))\n",
    "print(len(test))"
   ]
  },
  {
   "cell_type": "code",
   "execution_count": 8,
   "id": "0fc23c2f",
   "metadata": {},
   "outputs": [],
   "source": [
    "def to_sequences(dataset, seq_size=6, step_size=1, target_size=6):\n",
    "    x = []\n",
    "    y = []\n",
    "\n",
    "    for i in range(0, len(dataset)-seq_size-target_size + 1, step_size):\n",
    "        #print(i)\n",
    "        window = dataset[i:(i+seq_size)]\n",
    "        x.append(window)\n",
    "        target = dataset[i + seq_size: i + seq_size + target_size]\n",
    "        y.append(target)\n",
    "    \n",
    "    return np.array(x),np.array(y)"
   ]
  },
  {
   "cell_type": "code",
   "execution_count": 9,
   "id": "b6d1e374",
   "metadata": {},
   "outputs": [],
   "source": [
    "seq_size = 6  # Number of time steps to look back\n",
    "step_size=1   # Number of steps that is going to increase for the next sequence\n",
    "target_size=6 # Number of values that is going to generate as the output"
   ]
  },
  {
   "cell_type": "code",
   "execution_count": 10,
   "id": "06085d29",
   "metadata": {},
   "outputs": [],
   "source": [
    "trainX, trainY = to_sequences(train, seq_size, step_size, target_size)\n",
    "testX, testY = to_sequences(test, seq_size, step_size, target_size)"
   ]
  },
  {
   "cell_type": "code",
   "execution_count": 11,
   "id": "f570bf40",
   "metadata": {},
   "outputs": [
    {
     "data": {
      "text/plain": [
       "(1379, 6, 5)"
      ]
     },
     "execution_count": 11,
     "metadata": {},
     "output_type": "execute_result"
    }
   ],
   "source": [
    "trainX.shape"
   ]
  },
  {
   "cell_type": "code",
   "execution_count": 12,
   "id": "9a86b8a6",
   "metadata": {},
   "outputs": [
    {
     "data": {
      "text/plain": [
       "(1379, 6, 5)"
      ]
     },
     "execution_count": 12,
     "metadata": {},
     "output_type": "execute_result"
    }
   ],
   "source": [
    "trainY.shape"
   ]
  },
  {
   "cell_type": "code",
   "execution_count": 13,
   "id": "294ce0aa",
   "metadata": {},
   "outputs": [
    {
     "data": {
      "text/plain": [
       "(144, 6, 5)"
      ]
     },
     "execution_count": 13,
     "metadata": {},
     "output_type": "execute_result"
    }
   ],
   "source": [
    "testX.shape"
   ]
  },
  {
   "cell_type": "code",
   "execution_count": 14,
   "id": "364b0bb7",
   "metadata": {},
   "outputs": [
    {
     "data": {
      "text/plain": [
       "(144, 6, 5)"
      ]
     },
     "execution_count": 14,
     "metadata": {},
     "output_type": "execute_result"
    }
   ],
   "source": [
    "testY.shape"
   ]
  },
  {
   "cell_type": "code",
   "execution_count": 15,
   "id": "01591a80",
   "metadata": {},
   "outputs": [],
   "source": [
    "from tensorflow.keras.layers import TimeDistributed\n",
    "\n",
    "# Build the model\n",
    "model = Sequential()\n",
    "model.add(LSTM(50, input_shape=(seq_size, 5), return_sequences=True))\n",
    "model.add(Dropout(0.2))\n",
    "model.add(LSTM(50, return_sequences=True))\n",
    "model.add(Dropout(0.2))\n",
    "model.add(LSTM(50, return_sequences=True))\n",
    "model.add(Dropout(0.2))\n",
    "model.add(Dense(5))  # Adjust the output shape to (5)\n",
    "\n",
    "model.compile(loss='mean_squared_error', optimizer='adam', metrics=['mean_absolute_error'])"
   ]
  },
  {
   "cell_type": "code",
   "execution_count": 16,
   "id": "cf0215aa",
   "metadata": {},
   "outputs": [
    {
     "name": "stdout",
     "output_type": "stream",
     "text": [
      "Model: \"sequential\"\n",
      "_________________________________________________________________\n",
      " Layer (type)                Output Shape              Param #   \n",
      "=================================================================\n",
      " lstm (LSTM)                 (None, 6, 50)             11200     \n",
      "                                                                 \n",
      " dropout (Dropout)           (None, 6, 50)             0         \n",
      "                                                                 \n",
      " lstm_1 (LSTM)               (None, 6, 50)             20200     \n",
      "                                                                 \n",
      " dropout_1 (Dropout)         (None, 6, 50)             0         \n",
      "                                                                 \n",
      " lstm_2 (LSTM)               (None, 6, 50)             20200     \n",
      "                                                                 \n",
      " dropout_2 (Dropout)         (None, 6, 50)             0         \n",
      "                                                                 \n",
      " dense (Dense)               (None, 6, 5)              255       \n",
      "                                                                 \n",
      "=================================================================\n",
      "Total params: 51855 (202.56 KB)\n",
      "Trainable params: 51855 (202.56 KB)\n",
      "Non-trainable params: 0 (0.00 Byte)\n",
      "_________________________________________________________________\n"
     ]
    }
   ],
   "source": [
    "# Define early stopping\n",
    "early_stopping = EarlyStopping(monitor='val_loss', patience=10)\n",
    "\n",
    "model.summary()"
   ]
  },
  {
   "cell_type": "code",
   "execution_count": 17,
   "id": "ba355454",
   "metadata": {},
   "outputs": [
    {
     "name": "stdout",
     "output_type": "stream",
     "text": [
      "Epoch 1/100\n",
      "28/28 [==============================] - 18s 208ms/step - loss: 0.1824 - mean_absolute_error: 0.3467 - val_loss: 0.1222 - val_mean_absolute_error: 0.2784\n",
      "Epoch 2/100\n",
      "28/28 [==============================] - 1s 36ms/step - loss: 0.1094 - mean_absolute_error: 0.2635 - val_loss: 0.0929 - val_mean_absolute_error: 0.2451\n",
      "Epoch 3/100\n",
      "28/28 [==============================] - 1s 41ms/step - loss: 0.0833 - mean_absolute_error: 0.2329 - val_loss: 0.0672 - val_mean_absolute_error: 0.2134\n",
      "Epoch 4/100\n",
      "28/28 [==============================] - 1s 35ms/step - loss: 0.0610 - mean_absolute_error: 0.2001 - val_loss: 0.0442 - val_mean_absolute_error: 0.1684\n",
      "Epoch 5/100\n",
      "28/28 [==============================] - 1s 34ms/step - loss: 0.0364 - mean_absolute_error: 0.1471 - val_loss: 0.0235 - val_mean_absolute_error: 0.1124\n",
      "Epoch 6/100\n",
      "28/28 [==============================] - 1s 49ms/step - loss: 0.0251 - mean_absolute_error: 0.1208 - val_loss: 0.0173 - val_mean_absolute_error: 0.0982\n",
      "Epoch 7/100\n",
      "28/28 [==============================] - 1s 33ms/step - loss: 0.0194 - mean_absolute_error: 0.1070 - val_loss: 0.0134 - val_mean_absolute_error: 0.0872\n",
      "Epoch 8/100\n",
      "28/28 [==============================] - 1s 25ms/step - loss: 0.0163 - mean_absolute_error: 0.0983 - val_loss: 0.0111 - val_mean_absolute_error: 0.0800\n",
      "Epoch 9/100\n",
      "28/28 [==============================] - 1s 24ms/step - loss: 0.0146 - mean_absolute_error: 0.0928 - val_loss: 0.0108 - val_mean_absolute_error: 0.0802\n",
      "Epoch 10/100\n",
      "28/28 [==============================] - 1s 29ms/step - loss: 0.0135 - mean_absolute_error: 0.0890 - val_loss: 0.0105 - val_mean_absolute_error: 0.0785\n",
      "Epoch 11/100\n",
      "28/28 [==============================] - 1s 43ms/step - loss: 0.0128 - mean_absolute_error: 0.0871 - val_loss: 0.0101 - val_mean_absolute_error: 0.0775\n",
      "Epoch 12/100\n",
      "28/28 [==============================] - 2s 62ms/step - loss: 0.0124 - mean_absolute_error: 0.0857 - val_loss: 0.0088 - val_mean_absolute_error: 0.0709\n",
      "Epoch 13/100\n",
      "28/28 [==============================] - 1s 39ms/step - loss: 0.0121 - mean_absolute_error: 0.0842 - val_loss: 0.0091 - val_mean_absolute_error: 0.0725\n",
      "Epoch 14/100\n",
      "28/28 [==============================] - 1s 52ms/step - loss: 0.0118 - mean_absolute_error: 0.0831 - val_loss: 0.0094 - val_mean_absolute_error: 0.0743\n",
      "Epoch 15/100\n",
      "28/28 [==============================] - 1s 45ms/step - loss: 0.0115 - mean_absolute_error: 0.0825 - val_loss: 0.0091 - val_mean_absolute_error: 0.0727\n",
      "Epoch 16/100\n",
      "28/28 [==============================] - 1s 38ms/step - loss: 0.0114 - mean_absolute_error: 0.0816 - val_loss: 0.0085 - val_mean_absolute_error: 0.0692\n",
      "Epoch 17/100\n",
      "28/28 [==============================] - 1s 31ms/step - loss: 0.0112 - mean_absolute_error: 0.0812 - val_loss: 0.0084 - val_mean_absolute_error: 0.0681\n",
      "Epoch 18/100\n",
      "28/28 [==============================] - 1s 33ms/step - loss: 0.0111 - mean_absolute_error: 0.0808 - val_loss: 0.0085 - val_mean_absolute_error: 0.0691\n",
      "Epoch 19/100\n",
      "28/28 [==============================] - 1s 20ms/step - loss: 0.0109 - mean_absolute_error: 0.0797 - val_loss: 0.0086 - val_mean_absolute_error: 0.0695\n",
      "Epoch 20/100\n",
      "28/28 [==============================] - 1s 26ms/step - loss: 0.0108 - mean_absolute_error: 0.0795 - val_loss: 0.0085 - val_mean_absolute_error: 0.0689\n",
      "Epoch 21/100\n",
      "28/28 [==============================] - 1s 29ms/step - loss: 0.0107 - mean_absolute_error: 0.0791 - val_loss: 0.0085 - val_mean_absolute_error: 0.0690\n",
      "Epoch 22/100\n",
      "28/28 [==============================] - 1s 28ms/step - loss: 0.0107 - mean_absolute_error: 0.0790 - val_loss: 0.0087 - val_mean_absolute_error: 0.0701\n",
      "Epoch 23/100\n",
      "28/28 [==============================] - 1s 31ms/step - loss: 0.0105 - mean_absolute_error: 0.0782 - val_loss: 0.0082 - val_mean_absolute_error: 0.0669\n",
      "Epoch 24/100\n",
      "28/28 [==============================] - 1s 22ms/step - loss: 0.0105 - mean_absolute_error: 0.0781 - val_loss: 0.0089 - val_mean_absolute_error: 0.0709\n",
      "Epoch 25/100\n",
      "28/28 [==============================] - 1s 22ms/step - loss: 0.0104 - mean_absolute_error: 0.0774 - val_loss: 0.0084 - val_mean_absolute_error: 0.0688\n",
      "Epoch 26/100\n",
      "28/28 [==============================] - 1s 22ms/step - loss: 0.0103 - mean_absolute_error: 0.0770 - val_loss: 0.0090 - val_mean_absolute_error: 0.0721\n",
      "Epoch 27/100\n",
      "28/28 [==============================] - 1s 22ms/step - loss: 0.0102 - mean_absolute_error: 0.0766 - val_loss: 0.0083 - val_mean_absolute_error: 0.0674\n",
      "Epoch 28/100\n",
      "28/28 [==============================] - 1s 32ms/step - loss: 0.0102 - mean_absolute_error: 0.0766 - val_loss: 0.0083 - val_mean_absolute_error: 0.0680\n",
      "Epoch 29/100\n",
      "28/28 [==============================] - 1s 29ms/step - loss: 0.0099 - mean_absolute_error: 0.0756 - val_loss: 0.0085 - val_mean_absolute_error: 0.0692\n",
      "Epoch 30/100\n",
      "28/28 [==============================] - 1s 23ms/step - loss: 0.0101 - mean_absolute_error: 0.0765 - val_loss: 0.0087 - val_mean_absolute_error: 0.0706\n",
      "Epoch 31/100\n",
      "28/28 [==============================] - 1s 30ms/step - loss: 0.0100 - mean_absolute_error: 0.0759 - val_loss: 0.0081 - val_mean_absolute_error: 0.0659\n",
      "Epoch 32/100\n",
      "28/28 [==============================] - 2s 58ms/step - loss: 0.0099 - mean_absolute_error: 0.0755 - val_loss: 0.0078 - val_mean_absolute_error: 0.0648\n",
      "Epoch 33/100\n",
      "28/28 [==============================] - 1s 48ms/step - loss: 0.0098 - mean_absolute_error: 0.0749 - val_loss: 0.0081 - val_mean_absolute_error: 0.0663\n",
      "Epoch 34/100\n",
      "28/28 [==============================] - 1s 51ms/step - loss: 0.0099 - mean_absolute_error: 0.0750 - val_loss: 0.0082 - val_mean_absolute_error: 0.0672\n",
      "Epoch 35/100\n",
      "28/28 [==============================] - 1s 43ms/step - loss: 0.0099 - mean_absolute_error: 0.0752 - val_loss: 0.0088 - val_mean_absolute_error: 0.0708\n",
      "Epoch 36/100\n",
      "28/28 [==============================] - 1s 44ms/step - loss: 0.0097 - mean_absolute_error: 0.0745 - val_loss: 0.0081 - val_mean_absolute_error: 0.0664\n",
      "Epoch 37/100\n",
      "28/28 [==============================] - 1s 42ms/step - loss: 0.0097 - mean_absolute_error: 0.0745 - val_loss: 0.0084 - val_mean_absolute_error: 0.0682\n",
      "Epoch 38/100\n",
      "28/28 [==============================] - 1s 46ms/step - loss: 0.0096 - mean_absolute_error: 0.0739 - val_loss: 0.0080 - val_mean_absolute_error: 0.0664\n",
      "Epoch 39/100\n",
      "28/28 [==============================] - 1s 42ms/step - loss: 0.0096 - mean_absolute_error: 0.0741 - val_loss: 0.0086 - val_mean_absolute_error: 0.0692\n",
      "Epoch 40/100\n",
      "28/28 [==============================] - 1s 35ms/step - loss: 0.0094 - mean_absolute_error: 0.0735 - val_loss: 0.0081 - val_mean_absolute_error: 0.0670\n",
      "Epoch 41/100\n",
      "28/28 [==============================] - 1s 46ms/step - loss: 0.0096 - mean_absolute_error: 0.0736 - val_loss: 0.0077 - val_mean_absolute_error: 0.0642\n",
      "Epoch 42/100\n",
      "28/28 [==============================] - 1s 50ms/step - loss: 0.0095 - mean_absolute_error: 0.0734 - val_loss: 0.0081 - val_mean_absolute_error: 0.0673\n",
      "Epoch 43/100\n",
      "28/28 [==============================] - 1s 37ms/step - loss: 0.0093 - mean_absolute_error: 0.0730 - val_loss: 0.0080 - val_mean_absolute_error: 0.0659\n",
      "Epoch 44/100\n",
      "28/28 [==============================] - 1s 37ms/step - loss: 0.0094 - mean_absolute_error: 0.0735 - val_loss: 0.0081 - val_mean_absolute_error: 0.0671\n",
      "Epoch 45/100\n",
      "28/28 [==============================] - 1s 40ms/step - loss: 0.0092 - mean_absolute_error: 0.0725 - val_loss: 0.0084 - val_mean_absolute_error: 0.0689\n",
      "Epoch 46/100\n",
      "28/28 [==============================] - 1s 53ms/step - loss: 0.0094 - mean_absolute_error: 0.0731 - val_loss: 0.0084 - val_mean_absolute_error: 0.0692\n",
      "Epoch 47/100\n",
      "28/28 [==============================] - 1s 39ms/step - loss: 0.0092 - mean_absolute_error: 0.0723 - val_loss: 0.0077 - val_mean_absolute_error: 0.0644\n",
      "Epoch 48/100\n",
      "28/28 [==============================] - 1s 35ms/step - loss: 0.0091 - mean_absolute_error: 0.0720 - val_loss: 0.0080 - val_mean_absolute_error: 0.0669\n",
      "Epoch 49/100\n",
      "28/28 [==============================] - 1s 35ms/step - loss: 0.0091 - mean_absolute_error: 0.0719 - val_loss: 0.0077 - val_mean_absolute_error: 0.0637\n",
      "Epoch 50/100\n",
      "28/28 [==============================] - 1s 41ms/step - loss: 0.0092 - mean_absolute_error: 0.0720 - val_loss: 0.0079 - val_mean_absolute_error: 0.0662\n"
     ]
    },
    {
     "name": "stdout",
     "output_type": "stream",
     "text": [
      "Epoch 51/100\n",
      "28/28 [==============================] - 1s 44ms/step - loss: 0.0091 - mean_absolute_error: 0.0719 - val_loss: 0.0080 - val_mean_absolute_error: 0.0660\n",
      "Epoch 52/100\n",
      "28/28 [==============================] - 1s 39ms/step - loss: 0.0090 - mean_absolute_error: 0.0716 - val_loss: 0.0081 - val_mean_absolute_error: 0.0664\n",
      "Epoch 53/100\n",
      "28/28 [==============================] - 1s 30ms/step - loss: 0.0090 - mean_absolute_error: 0.0711 - val_loss: 0.0083 - val_mean_absolute_error: 0.0679\n",
      "Epoch 54/100\n",
      "28/28 [==============================] - 1s 22ms/step - loss: 0.0090 - mean_absolute_error: 0.0713 - val_loss: 0.0080 - val_mean_absolute_error: 0.0663\n",
      "Epoch 55/100\n",
      "28/28 [==============================] - 1s 23ms/step - loss: 0.0089 - mean_absolute_error: 0.0708 - val_loss: 0.0079 - val_mean_absolute_error: 0.0655\n",
      "Epoch 56/100\n",
      "28/28 [==============================] - 1s 22ms/step - loss: 0.0089 - mean_absolute_error: 0.0708 - val_loss: 0.0082 - val_mean_absolute_error: 0.0678\n",
      "Epoch 57/100\n",
      "28/28 [==============================] - 1s 28ms/step - loss: 0.0089 - mean_absolute_error: 0.0712 - val_loss: 0.0082 - val_mean_absolute_error: 0.0667\n",
      "Epoch 58/100\n",
      "28/28 [==============================] - 1s 38ms/step - loss: 0.0088 - mean_absolute_error: 0.0705 - val_loss: 0.0079 - val_mean_absolute_error: 0.0653\n",
      "Epoch 59/100\n",
      "28/28 [==============================] - 1s 23ms/step - loss: 0.0086 - mean_absolute_error: 0.0697 - val_loss: 0.0078 - val_mean_absolute_error: 0.0650\n"
     ]
    }
   ],
   "source": [
    "# Train the model\n",
    "history = model.fit(trainX, trainY, epochs=100, batch_size=50, validation_data=(testX, testY), callbacks=[early_stopping])"
   ]
  },
  {
   "cell_type": "code",
   "execution_count": 18,
   "id": "74e59cb2",
   "metadata": {},
   "outputs": [
    {
     "data": {
      "text/plain": [
       "<matplotlib.legend.Legend at 0x1b8f7a85810>"
      ]
     },
     "execution_count": 18,
     "metadata": {},
     "output_type": "execute_result"
    },
    {
     "data": {
      "image/png": "[encoded data removed]",
      "text/plain": [
       "<Figure size 640x480 with 1 Axes>"
      ]
     },
     "metadata": {},
     "output_type": "display_data"
    }
   ],
   "source": [
    "plt.plot(history.history['loss'],label='Training loss')\n",
    "plt.plot(history.history['val_loss'],label='Validation Loss')\n",
    "plt.legend()"
   ]
  },
  {
   "cell_type": "code",
   "execution_count": 19,
   "id": "c1cd8ebc",
   "metadata": {},
   "outputs": [
    {
     "data": {
      "text/plain": [
       "<matplotlib.legend.Legend at 0x1b8f7a09a10>"
      ]
     },
     "execution_count": 19,
     "metadata": {},
     "output_type": "execute_result"
    },
    {
     "data": {
      "image/png": "[encoded data removed]",
      "text/plain": [
       "<Figure size 640x480 with 1 Axes>"
      ]
     },
     "metadata": {},
     "output_type": "display_data"
    }
   ],
   "source": [
    "plt.plot(history.history['mean_absolute_error'],label='Mean absolute error')\n",
    "plt.plot(history.history['val_mean_absolute_error'],label='Val_mean absolute error')\n",
    "plt.legend()"
   ]
  },
  {
   "cell_type": "code",
   "execution_count": 20,
   "id": "ab2b0f49",
   "metadata": {},
   "outputs": [
    {
     "data": {
      "text/plain": [
       "(1379, 6, 5)"
      ]
     },
     "execution_count": 20,
     "metadata": {},
     "output_type": "execute_result"
    }
   ],
   "source": [
    "trainX.shape"
   ]
  },
  {
   "cell_type": "code",
   "execution_count": 21,
   "id": "7aeb93ea",
   "metadata": {},
   "outputs": [
    {
     "name": "stdout",
     "output_type": "stream",
     "text": [
      "5/5 [==============================] - 2s 9ms/step\n",
      "True Values (TestY):\n",
      "[[0.6576271  0.7062424  0.615304   0.66322005 0.18181817]\n",
      " [0.7898305  0.8384333  0.7463313  0.6661743  0.05094905]\n",
      " [0.9163842  0.9742962  0.86582804 0.46381095 0.0034965 ]\n",
      " [0.8677966  0.9057528  0.8343815  0.34121123 0.01048951]\n",
      " [0.73559326 0.7405141  0.730608   0.0915805  0.09840159]\n",
      " [0.6384181  0.65483475 0.6236897  0.16248153 0.2097902 ]]\n",
      "Predicted Values:\n",
      "[[0.7372663  0.76061046 0.7150536  0.34817943 0.12023595]\n",
      " [0.81721056 0.84551454 0.791895   0.39169428 0.04447037]\n",
      " [0.86414707 0.8939225  0.8396103  0.37582797 0.01823679]\n",
      " [0.82876503 0.85465205 0.8076654  0.31322265 0.037754  ]\n",
      " [0.75182784 0.77258223 0.73328024 0.25346804 0.09725517]\n",
      " [0.5987775  0.6151318  0.582216   0.17540541 0.25151968]]\n"
     ]
    }
   ],
   "source": [
    "# Make predictions on the test data\n",
    "testPredict = model.predict(testX)\n",
    "\n",
    "# Inverse transform the predictions to the original scale\n",
    "#testPredict = scaler.inverse_transform(testPredict)\n",
    "\n",
    "# Optionally, inverse transform the testY (true values) if it was scaled\n",
    "#testY = scaler.inverse_transform(testY)\n",
    "\n",
    "# Now, you can compare the testY (true values) with the predicted values\n",
    "# For example, to check the predictions for the first sequence:\n",
    "print(\"True Values (TestY):\")\n",
    "print(testY[0])  # This contains the true values for the first sequence\n",
    "\n",
    "print(\"Predicted Values:\")\n",
    "print(testPredict[0])  # This contains the predicted values for the first sequence"
   ]
  },
  {
   "cell_type": "code",
   "execution_count": 22,
   "id": "6610f8e9",
   "metadata": {},
   "outputs": [
    {
     "name": "stdout",
     "output_type": "stream",
     "text": [
      "5/5 [==============================] - 0s 15ms/step\n"
     ]
    }
   ],
   "source": [
    "# After training, you can make predictions on the test data\n",
    "testPredict = model.predict(testX)"
   ]
  },
  {
   "cell_type": "code",
   "execution_count": 23,
   "id": "0546ef78",
   "metadata": {},
   "outputs": [],
   "source": [
    "# Inverse transform the predictions to the original scale if you had previously scaled your data using a MinMaxScaler\n",
    "#testPredict = scaler.inverse_transform(testPredict)"
   ]
  },
  {
   "cell_type": "code",
   "execution_count": 24,
   "id": "f85fec7f",
   "metadata": {},
   "outputs": [
    {
     "name": "stdout",
     "output_type": "stream",
     "text": [
      "44/44 [==============================] - 0s 7ms/step\n",
      "True Values (TrainY):\n",
      "[[0.84745765 0.8531212  0.8396226  0.19940916 0.02347652]\n",
      " [0.83841807 0.83353734 0.8406709  0.19054651 0.02197802]\n",
      " [0.75141245 0.73317015 0.76624733 0.15066469 0.08041958]\n",
      " [0.54915255 0.5287638  0.567086   0.02215657 0.33016983]\n",
      " [0.36497176 0.38555694 0.34591192 0.16838995 0.5514485 ]\n",
      " [0.29943502 0.3108935  0.28825995 0.03988183 0.6768232 ]]\n",
      "Predicted Values:\n",
      "[[0.85985374 0.89162666 0.8361906  0.42502043 0.00924386]\n",
      " [0.85205746 0.8832615  0.8290456  0.36532927 0.01541084]\n",
      " [0.7851547  0.80925137 0.7671544  0.27667615 0.07559434]\n",
      " [0.54126906 0.5567646  0.5267497  0.13897072 0.32501048]\n",
      " [0.37645948 0.3917837  0.3607859  0.07859472 0.53543526]\n",
      " [0.2843163  0.3013994  0.26820806 0.04966003 0.67344624]]\n"
     ]
    }
   ],
   "source": [
    "trainPredict = model.predict(trainX)\n",
    "\n",
    "# Inverse transform the predictions to the original scale\n",
    "#trainPredict = scaler.inverse_transform(trainPredict)\n",
    "\n",
    "# Optionally, inverse transform the trainY (true values) if it was scaled\n",
    "#trainY = scaler.inverse_transform(trainY)\n",
    "\n",
    "# Now, you can compare the trainY (true values) with the predicted values\n",
    "# For example, to check the predictions for the first sequence:\n",
    "print(\"True Values (TrainY):\")\n",
    "print(trainY[0])  # This contains the true values for the first sequence\n",
    "\n",
    "print(\"Predicted Values:\")\n",
    "print(trainPredict[0])  # This contains the predicted values for the first sequence\n"
   ]
  },
  {
   "cell_type": "code",
   "execution_count": 25,
   "id": "28db9ca9",
   "metadata": {},
   "outputs": [
    {
     "name": "stdout",
     "output_type": "stream",
     "text": [
      "44/44 [==============================] - 0s 6ms/step\n"
     ]
    }
   ],
   "source": [
    "trainPredict = model.predict(trainX)"
   ]
  },
  {
   "cell_type": "code",
   "execution_count": 26,
   "id": "3af00191",
   "metadata": {},
   "outputs": [],
   "source": [
    "# Inverse transform the predictions to the original scale if you had previously scaled your data using a MinMaxScaler\n",
    "#testPredict = scaler.inverse_transform(testPredict)"
   ]
  },
  {
   "cell_type": "code",
   "execution_count": 27,
   "id": "ae80f012",
   "metadata": {},
   "outputs": [
    {
     "name": "stdout",
     "output_type": "stream",
     "text": [
      "Test Score: 0.09 RMSE\n"
     ]
    }
   ],
   "source": [
    "# You can also optionally inverse transform the testY (true values) if it was scaled\n",
    "# testY = scaler.inverse_transform(testY)\n",
    "\n",
    "# Calculate RMSE for the test data\n",
    "#testScore = math.sqrt(mean_squared_error(testY, testPredict))\n",
    "#print('Test Score: %.2f RMSE' % (testScore))\n",
    "\n",
    "# Calculate RMSE for the test data\n",
    "testScore = math.sqrt(mean_squared_error(testY.reshape(-1, 5), testPredict.reshape(-1, 5)))\n",
    "print('Test Score: %.2f RMSE' % (testScore))"
   ]
  },
  {
   "cell_type": "code",
   "execution_count": 28,
   "id": "a1223295",
   "metadata": {},
   "outputs": [
    {
     "name": "stdout",
     "output_type": "stream",
     "text": [
      "Train Score: 0.08 RMSE\n"
     ]
    }
   ],
   "source": [
    "# You can also optionally inverse transform the testY (true values) if it was scaled\n",
    "# testY = scaler.inverse_transform(testY)\n",
    "\n",
    "# Calculate RMSE for the test data\n",
    "#trainScore = math.sqrt(mean_squared_error(trainY, trainPredict))\n",
    "#print('Train Score: %.2f RMSE' % (trainScore))\n",
    "\n",
    "# Calculate RMSE for the train data\n",
    "trainScore = math.sqrt(mean_squared_error(trainY.reshape(-1, 5), trainPredict.reshape(-1, 5)))\n",
    "print('Train Score: %.2f RMSE' % (trainScore))"
   ]
  },
  {
   "cell_type": "code",
   "execution_count": 29,
   "id": "c7be35e6",
   "metadata": {},
   "outputs": [
    {
     "name": "stdout",
     "output_type": "stream",
     "text": [
      "Mean Absolute Error (MAE): 0.06497365\n"
     ]
    }
   ],
   "source": [
    "from sklearn.metrics import mean_absolute_error\n",
    "\n",
    "# Calculate the Mean Absolute Error\n",
    "#mae = mean_absolute_error(testY, testPredict)\n",
    "#print(\"Mean Absolute Error (MAE):\", mae)\n",
    "\n",
    "# Calculate the Mean Absolute Error\n",
    "mae = mean_absolute_error(testY.reshape(-1, 5), testPredict.reshape(-1, 5))\n",
    "print(\"Mean Absolute Error (MAE):\", mae)"
   ]
  },
  {
   "cell_type": "code",
   "execution_count": 30,
   "id": "f7e9a447",
   "metadata": {},
   "outputs": [
    {
     "name": "stdout",
     "output_type": "stream",
     "text": [
      "Mean Absolute Percentage Error (MAPE): 0.4300807\n"
     ]
    }
   ],
   "source": [
    "from sklearn.metrics import mean_absolute_percentage_error\n",
    "\n",
    "# Calculate the Mean Absolute Percentage Error\n",
    "mae = mean_absolute_percentage_error(testY.reshape(-1, 5), testPredict.reshape(-1, 5))\n",
    "print(\"Mean Absolute Percentage Error (MAPE):\", mae)"
   ]
  },
  {
   "cell_type": "code",
   "execution_count": 31,
   "id": "6f227ad8",
   "metadata": {},
   "outputs": [
    {
     "name": "stdout",
     "output_type": "stream",
     "text": [
      "Mean Absolute Percentage Error (MAPE): 0.4300807\n"
     ]
    }
   ],
   "source": [
    "from sklearn.metrics import mean_absolute_percentage_error\n",
    "\n",
    "# Calculate the Mean Absolute Percentage Error\n",
    "\n",
    "trainScore = mean_absolute_percentage_error(trainY.reshape(-1, 5), trainPredict.reshape(-1, 5))\n",
    "print(\"Mean Absolute Percentage Error (MAPE):\", mae)"
   ]
  }
 ],
 "metadata": {
  "kernelspec": {
   "display_name": "Python 3 (ipykernel)",
   "language": "python",
   "name": "python3"
  },
  "language_info": {
   "codemirror_mode": {
    "name": "ipython",
    "version": 3
   },
   "file_extension": ".py",
   "mimetype": "text/x-python",
   "name": "python",
   "nbconvert_exporter": "python",
   "pygments_lexer": "ipython3",
   "version": "3.11.4"
  }
 },
 "nbformat": 4,
 "nbformat_minor": 5
}
